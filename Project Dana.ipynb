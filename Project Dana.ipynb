{
 "cells": [
  {
   "cell_type": "markdown",
   "metadata": {},
   "source": [
    "# The \"Marketplace\" (Project: Dana)"
   ]
  },
  {
   "cell_type": "markdown",
   "metadata": {},
   "source": [
    "### Background"
   ]
  },
  {
   "cell_type": "markdown",
   "metadata": {},
   "source": [
    "The client is a global recruitment platform.\n",
    "\n",
    "Their goal is to improve the relevance of their jobs marketplace which workers have access to based on the behaviour of the workers on the platform. The starting point is the UK market, and therefore other markets can be ignore for the time being.\n",
    "\n",
    "Relevance is to be determined by whether a potential worker will apply to a job, or not.\n",
    "\n",
    "Therefore there is no need for a strict yes/no output from the model, and instead the __probability__ of whether a worker will apply for a particular job or not is needed.\n",
    "\n",
    "The dataset for this problem is to be determined and extracted by myself based on all the available data in their system."
   ]
  },
  {
   "cell_type": "markdown",
   "metadata": {},
   "source": [
    "### Problem Summary"
   ]
  },
  {
   "cell_type": "markdown",
   "metadata": {},
   "source": [
    "* This is a classification problem.\n",
    "* Need to determine the probability of a worker applying to all the jobs on the platform.\n",
    "* There is no win condition.\n",
    "* Focus on the UK market."
   ]
  },
  {
   "cell_type": "markdown",
   "metadata": {},
   "source": [
    "### Data Gathering: Insights"
   ]
  },
  {
   "cell_type": "markdown",
   "metadata": {},
   "source": [
    "Due to the slow nature of the client's database, it was only possible to extract a week's worth of data, however the sample size was large enough for machine learning modelling."
   ]
  },
  {
   "cell_type": "markdown",
   "metadata": {},
   "source": [
    "### Summary of Findings"
   ]
  },
  {
   "cell_type": "markdown",
   "metadata": {},
   "source": [
    "* A strong model with an ROC score of 0.89 was developed using the XGBoost algorithm.\n",
    "* The model is ready to be deployed by the client.\n",
    "* The model identified that in the UK the following play an important role in determining if someone will apply for a job:\n",
    "    * Number of previous applications to a particular company\n",
    "    * The average wage of previously applied roles\n",
    "    * The wage of the job\n",
    "    * The number of times a worker was previously hired by the company"
   ]
  },
  {
   "cell_type": "markdown",
   "metadata": {},
   "source": [
    "### Further Recommendations"
   ]
  },
  {
   "cell_type": "markdown",
   "metadata": {},
   "source": [
    "* Improvements can be done to the model by dropping some features, and further tunning the hyperparameters.\n",
    "* A comprehensive CVGridSearch should be run instead of a RandomizedSearchCV to further optimise the hyperparameters. RandomizedSearchCV was used because CVGridSearch would have taken too long to run.\n",
    "* Some quickly exploration was done for CH (beyond the scope of this work) and it seems that a different model is required for the CH market.\n",
    "* Some additional features could be engineered. Examples:\n",
    "    * How many times a worker viewed a particular job\n",
    "    * Quantity of times a worker has declined different job types"
   ]
  },
  {
   "cell_type": "markdown",
   "metadata": {},
   "source": [
    " "
   ]
  },
  {
   "cell_type": "markdown",
   "metadata": {},
   "source": [
    " "
   ]
  },
  {
   "cell_type": "markdown",
   "metadata": {},
   "source": [
    " "
   ]
  },
  {
   "cell_type": "markdown",
   "metadata": {},
   "source": [
    "## Library Imports"
   ]
  },
  {
   "cell_type": "code",
   "execution_count": 246,
   "metadata": {},
   "outputs": [],
   "source": [
    "import numpy as np\n",
    "import pandas as pd\n",
    "from matplotlib import pyplot as plt\n",
    "%matplotlib inline \n",
    "import seaborn as sns\n",
    "\n",
    "# For connecting to the database to retrieve data\n",
    "import pymysql\n",
    "\n",
    "# A visualisation library\n",
    "import missingno as msno \n",
    "\n",
    "# For calculating distances:\n",
    "import geopy.distance\n",
    "\n",
    "# For calculating time differences:\n",
    "from datetime import datetime\n",
    "\n",
    "# Math library for using math.isnan() function\n",
    "import math\n",
    "\n",
    "# For calculating the Z-score for outlier detection\n",
    "from scipy import stats"
   ]
  },
  {
   "cell_type": "markdown",
   "metadata": {},
   "source": [
    "## Define Global Styling Properties"
   ]
  },
  {
   "cell_type": "code",
   "execution_count": 247,
   "metadata": {},
   "outputs": [],
   "source": [
    "# Define styling properties:\n",
    "sns.set_style('whitegrid')\n",
    "title_font = {'fontname':'Verdana', 'size':'20', 'color':'black', 'weight':'normal',\n",
    "              'verticalalignment':'bottom'} # Bottom vertical alignment for more space\n",
    "axis_font = {'fontname':'Arial', 'size':'18', 'color':'grey'}\n",
    "ticks_font = {'size': '14', 'color':'grey', 'weight':'normal'}\n",
    "\n",
    "font = {'family' : 'Verdana',\n",
    "        'weight' : 'normal',\n",
    "        'size'   : 16}\n",
    "\n",
    "plt.rc('font', **font)"
   ]
  },
  {
   "cell_type": "markdown",
   "metadata": {},
   "source": [
    "## Exploratory Analysis"
   ]
  },
  {
   "cell_type": "markdown",
   "metadata": {},
   "source": [
    "#### Retrieve the data directly from the database"
   ]
  },
  {
   "cell_type": "code",
   "execution_count": 248,
   "metadata": {},
   "outputs": [],
   "source": [
    "host = 'localhost'\n",
    "port = 3307\n",
    "user = 'USERNAME'\n",
    "password = 'PASSWORD'\n",
    "database = 'DATABASE'\n",
    "\n",
    "conn = pymysql.connect(\n",
    "    host=host,\n",
    "    port=port,\n",
    "    user=user,\n",
    "    passwd=password,\n",
    "    db=database)"
   ]
  },
  {
   "cell_type": "code",
   "execution_count": 249,
   "metadata": {},
   "outputs": [],
   "source": [
    "df = pd.read_sql_query(\"SELECT * FROM DATABASE\", conn)"
   ]
  },
  {
   "cell_type": "code",
   "execution_count": 251,
   "metadata": {
    "scrolled": true
   },
   "outputs": [
    {
     "data": {
      "text/plain": [
       "(100736, 31)"
      ]
     },
     "execution_count": 251,
     "metadata": {},
     "output_type": "execute_result"
    }
   ],
   "source": [
    "df.shape"
   ]
  },
  {
   "cell_type": "code",
   "execution_count": 252,
   "metadata": {},
   "outputs": [
    {
     "data": {
      "text/plain": [
       "(0, 31)"
      ]
     },
     "execution_count": 252,
     "metadata": {},
     "output_type": "execute_result"
    }
   ],
   "source": [
    "duplicates = df[df.duplicated()]\n",
    " \n",
    "duplicates.shape"
   ]
  },
  {
   "cell_type": "markdown",
   "metadata": {},
   "source": [
    "No duplicate data found."
   ]
  },
  {
   "cell_type": "code",
   "execution_count": 253,
   "metadata": {
    "scrolled": true
   },
   "outputs": [
    {
     "data": {
      "text/html": [
       "<div>\n",
       "<style scoped>\n",
       "    .dataframe tbody tr th:only-of-type {\n",
       "        vertical-align: middle;\n",
       "    }\n",
       "\n",
       "    .dataframe tbody tr th {\n",
       "        vertical-align: top;\n",
       "    }\n",
       "\n",
       "    .dataframe thead th {\n",
       "        text-align: right;\n",
       "    }\n",
       "</style>\n",
       "<table border=\"1\" class=\"dataframe\">\n",
       "  <thead>\n",
       "    <tr style=\"text-align: right;\">\n",
       "      <th></th>\n",
       "      <th>entry_id</th>\n",
       "      <th>country_id</th>\n",
       "      <th>job_id</th>\n",
       "      <th>p_id</th>\n",
       "      <th>c_id</th>\n",
       "      <th>role_id</th>\n",
       "      <th>date_declined</th>\n",
       "      <th>date_applied</th>\n",
       "      <th>date_rejected</th>\n",
       "      <th>date_hired</th>\n",
       "      <th>...</th>\n",
       "      <th>worker_longitude</th>\n",
       "      <th>job_wage</th>\n",
       "      <th>num_applied_role</th>\n",
       "      <th>num_rejected_role</th>\n",
       "      <th>num_applied_company</th>\n",
       "      <th>num_rejected_company</th>\n",
       "      <th>wage_applied_role</th>\n",
       "      <th>wage_hired_role</th>\n",
       "      <th>num_hired_role</th>\n",
       "      <th>num_hired_company</th>\n",
       "    </tr>\n",
       "    <tr>\n",
       "      <th>status</th>\n",
       "      <th></th>\n",
       "      <th></th>\n",
       "      <th></th>\n",
       "      <th></th>\n",
       "      <th></th>\n",
       "      <th></th>\n",
       "      <th></th>\n",
       "      <th></th>\n",
       "      <th></th>\n",
       "      <th></th>\n",
       "      <th></th>\n",
       "      <th></th>\n",
       "      <th></th>\n",
       "      <th></th>\n",
       "      <th></th>\n",
       "      <th></th>\n",
       "      <th></th>\n",
       "      <th></th>\n",
       "      <th></th>\n",
       "      <th></th>\n",
       "      <th></th>\n",
       "    </tr>\n",
       "  </thead>\n",
       "  <tbody>\n",
       "    <tr>\n",
       "      <th>applied</th>\n",
       "      <td>32154</td>\n",
       "      <td>32154</td>\n",
       "      <td>32154</td>\n",
       "      <td>32154</td>\n",
       "      <td>32154</td>\n",
       "      <td>32154</td>\n",
       "      <td>2556</td>\n",
       "      <td>32154</td>\n",
       "      <td>4616</td>\n",
       "      <td>2280</td>\n",
       "      <td>...</td>\n",
       "      <td>31980</td>\n",
       "      <td>32138</td>\n",
       "      <td>32154</td>\n",
       "      <td>32154</td>\n",
       "      <td>32154</td>\n",
       "      <td>32154</td>\n",
       "      <td>28771</td>\n",
       "      <td>4343</td>\n",
       "      <td>32154</td>\n",
       "      <td>32154</td>\n",
       "    </tr>\n",
       "    <tr>\n",
       "      <th>declined</th>\n",
       "      <td>68582</td>\n",
       "      <td>68582</td>\n",
       "      <td>68582</td>\n",
       "      <td>68582</td>\n",
       "      <td>68582</td>\n",
       "      <td>68582</td>\n",
       "      <td>68582</td>\n",
       "      <td>0</td>\n",
       "      <td>0</td>\n",
       "      <td>0</td>\n",
       "      <td>...</td>\n",
       "      <td>67350</td>\n",
       "      <td>68566</td>\n",
       "      <td>68582</td>\n",
       "      <td>68582</td>\n",
       "      <td>68582</td>\n",
       "      <td>68582</td>\n",
       "      <td>47296</td>\n",
       "      <td>3406</td>\n",
       "      <td>68582</td>\n",
       "      <td>68582</td>\n",
       "    </tr>\n",
       "  </tbody>\n",
       "</table>\n",
       "<p>2 rows × 30 columns</p>\n",
       "</div>"
      ],
      "text/plain": [
       "          entry_id  country_id  job_id   p_id   c_id  role_id  date_declined  \\\n",
       "status                                                                         \n",
       "applied      32154       32154   32154  32154  32154    32154           2556   \n",
       "declined     68582       68582   68582  68582  68582    68582          68582   \n",
       "\n",
       "          date_applied  date_rejected  date_hired  ...  worker_longitude  \\\n",
       "status                                             ...                     \n",
       "applied          32154           4616        2280  ...             31980   \n",
       "declined             0              0           0  ...             67350   \n",
       "\n",
       "          job_wage  num_applied_role  num_rejected_role  num_applied_company  \\\n",
       "status                                                                         \n",
       "applied      32138             32154              32154                32154   \n",
       "declined     68566             68582              68582                68582   \n",
       "\n",
       "          num_rejected_company  wage_applied_role  wage_hired_role  \\\n",
       "status                                                               \n",
       "applied                  32154              28771             4343   \n",
       "declined                 68582              47296             3406   \n",
       "\n",
       "          num_hired_role  num_hired_company  \n",
       "status                                       \n",
       "applied            32154              32154  \n",
       "declined           68582              68582  \n",
       "\n",
       "[2 rows x 30 columns]"
      ]
     },
     "execution_count": 253,
     "metadata": {},
     "output_type": "execute_result"
    }
   ],
   "source": [
    "df.groupby(['status']).count()"
   ]
  },
  {
   "cell_type": "markdown",
   "metadata": {},
   "source": [
    "###### Remarks:\n",
    "* There are 100,736 records in the dataset.\n",
    "* There are no duplicates.\n",
    "* 32,154 are in the 'applied' status, and\n",
    "* 68,582 are in the 'declined' status. \n",
    "* We have a slightly imbalanced class."
   ]
  },
  {
   "cell_type": "code",
   "execution_count": 254,
   "metadata": {
    "scrolled": true
   },
   "outputs": [
    {
     "data": {
      "text/html": [
       "<div>\n",
       "<style scoped>\n",
       "    .dataframe tbody tr th:only-of-type {\n",
       "        vertical-align: middle;\n",
       "    }\n",
       "\n",
       "    .dataframe tbody tr th {\n",
       "        vertical-align: top;\n",
       "    }\n",
       "\n",
       "    .dataframe thead th {\n",
       "        text-align: right;\n",
       "    }\n",
       "</style>\n",
       "<table border=\"1\" class=\"dataframe\">\n",
       "  <thead>\n",
       "    <tr style=\"text-align: right;\">\n",
       "      <th></th>\n",
       "      <th>entry_id</th>\n",
       "      <th>status</th>\n",
       "      <th>job_id</th>\n",
       "      <th>p_id</th>\n",
       "      <th>c_id</th>\n",
       "      <th>role_id</th>\n",
       "      <th>date_declined</th>\n",
       "      <th>date_applied</th>\n",
       "      <th>date_rejected</th>\n",
       "      <th>date_hired</th>\n",
       "      <th>...</th>\n",
       "      <th>worker_longitude</th>\n",
       "      <th>job_wage</th>\n",
       "      <th>num_applied_role</th>\n",
       "      <th>num_rejected_role</th>\n",
       "      <th>num_applied_company</th>\n",
       "      <th>num_rejected_company</th>\n",
       "      <th>wage_applied_role</th>\n",
       "      <th>wage_hired_role</th>\n",
       "      <th>num_hired_role</th>\n",
       "      <th>num_hired_company</th>\n",
       "    </tr>\n",
       "    <tr>\n",
       "      <th>country_id</th>\n",
       "      <th></th>\n",
       "      <th></th>\n",
       "      <th></th>\n",
       "      <th></th>\n",
       "      <th></th>\n",
       "      <th></th>\n",
       "      <th></th>\n",
       "      <th></th>\n",
       "      <th></th>\n",
       "      <th></th>\n",
       "      <th></th>\n",
       "      <th></th>\n",
       "      <th></th>\n",
       "      <th></th>\n",
       "      <th></th>\n",
       "      <th></th>\n",
       "      <th></th>\n",
       "      <th></th>\n",
       "      <th></th>\n",
       "      <th></th>\n",
       "      <th></th>\n",
       "    </tr>\n",
       "  </thead>\n",
       "  <tbody>\n",
       "    <tr>\n",
       "      <th>1</th>\n",
       "      <td>73794</td>\n",
       "      <td>73794</td>\n",
       "      <td>73794</td>\n",
       "      <td>73794</td>\n",
       "      <td>73794</td>\n",
       "      <td>73794</td>\n",
       "      <td>57713</td>\n",
       "      <td>17468</td>\n",
       "      <td>1746</td>\n",
       "      <td>1229</td>\n",
       "      <td>...</td>\n",
       "      <td>72670</td>\n",
       "      <td>73762</td>\n",
       "      <td>73794</td>\n",
       "      <td>73794</td>\n",
       "      <td>73794</td>\n",
       "      <td>73794</td>\n",
       "      <td>52494</td>\n",
       "      <td>4514</td>\n",
       "      <td>73794</td>\n",
       "      <td>73794</td>\n",
       "    </tr>\n",
       "    <tr>\n",
       "      <th>2</th>\n",
       "      <td>26928</td>\n",
       "      <td>26928</td>\n",
       "      <td>26928</td>\n",
       "      <td>26928</td>\n",
       "      <td>26928</td>\n",
       "      <td>26928</td>\n",
       "      <td>13424</td>\n",
       "      <td>14673</td>\n",
       "      <td>2868</td>\n",
       "      <td>1046</td>\n",
       "      <td>...</td>\n",
       "      <td>26646</td>\n",
       "      <td>26928</td>\n",
       "      <td>26928</td>\n",
       "      <td>26928</td>\n",
       "      <td>26928</td>\n",
       "      <td>26928</td>\n",
       "      <td>23567</td>\n",
       "      <td>3222</td>\n",
       "      <td>26928</td>\n",
       "      <td>26928</td>\n",
       "    </tr>\n",
       "    <tr>\n",
       "      <th>3</th>\n",
       "      <td>14</td>\n",
       "      <td>14</td>\n",
       "      <td>14</td>\n",
       "      <td>14</td>\n",
       "      <td>14</td>\n",
       "      <td>14</td>\n",
       "      <td>1</td>\n",
       "      <td>13</td>\n",
       "      <td>2</td>\n",
       "      <td>5</td>\n",
       "      <td>...</td>\n",
       "      <td>14</td>\n",
       "      <td>14</td>\n",
       "      <td>14</td>\n",
       "      <td>14</td>\n",
       "      <td>14</td>\n",
       "      <td>14</td>\n",
       "      <td>6</td>\n",
       "      <td>13</td>\n",
       "      <td>14</td>\n",
       "      <td>14</td>\n",
       "    </tr>\n",
       "  </tbody>\n",
       "</table>\n",
       "<p>3 rows × 30 columns</p>\n",
       "</div>"
      ],
      "text/plain": [
       "            entry_id  status  job_id   p_id   c_id  role_id  date_declined  \\\n",
       "country_id                                                                   \n",
       "1              73794   73794   73794  73794  73794    73794          57713   \n",
       "2              26928   26928   26928  26928  26928    26928          13424   \n",
       "3                 14      14      14     14     14       14              1   \n",
       "\n",
       "            date_applied  date_rejected  date_hired  ...  worker_longitude  \\\n",
       "country_id                                           ...                     \n",
       "1                  17468           1746        1229  ...             72670   \n",
       "2                  14673           2868        1046  ...             26646   \n",
       "3                     13              2           5  ...                14   \n",
       "\n",
       "            job_wage  num_applied_role  num_rejected_role  \\\n",
       "country_id                                                  \n",
       "1              73762             73794              73794   \n",
       "2              26928             26928              26928   \n",
       "3                 14                14                 14   \n",
       "\n",
       "            num_applied_company  num_rejected_company  wage_applied_role  \\\n",
       "country_id                                                                 \n",
       "1                         73794                 73794              52494   \n",
       "2                         26928                 26928              23567   \n",
       "3                            14                    14                  6   \n",
       "\n",
       "            wage_hired_role  num_hired_role  num_hired_company  \n",
       "country_id                                                      \n",
       "1                      4514           73794              73794  \n",
       "2                      3222           26928              26928  \n",
       "3                        13              14                 14  \n",
       "\n",
       "[3 rows x 30 columns]"
      ]
     },
     "execution_count": 254,
     "metadata": {},
     "output_type": "execute_result"
    }
   ],
   "source": [
    "df.groupby(['country_id']).count()"
   ]
  },
  {
   "cell_type": "markdown",
   "metadata": {},
   "source": [
    "###### Remarks - Important:\n",
    "* There are 3 countries in the dataset: Germany, UK and Denmark. We should split them apart since user behaviour can differ significantly between the 3.\n",
    "    * DE: platform_id = 1\n",
    "    * UK: platform_id = 2\n",
    "    * DK: platform_id = 3\n",
    "* Denmark can be dropped, since the client is not currently interested in it"
   ]
  },
  {
   "cell_type": "code",
   "execution_count": 255,
   "metadata": {},
   "outputs": [],
   "source": [
    "# Let's make the CH and UK datasets available in separate dataframes\n",
    "df_de = df[df['country_id'] == 1].copy()\n",
    "df_uk = df[df['country_id'] == 2].copy()"
   ]
  },
  {
   "cell_type": "code",
   "execution_count": 256,
   "metadata": {
    "scrolled": false
   },
   "outputs": [
    {
     "data": {
      "text/html": [
       "<div>\n",
       "<style scoped>\n",
       "    .dataframe tbody tr th:only-of-type {\n",
       "        vertical-align: middle;\n",
       "    }\n",
       "\n",
       "    .dataframe tbody tr th {\n",
       "        vertical-align: top;\n",
       "    }\n",
       "\n",
       "    .dataframe thead th {\n",
       "        text-align: right;\n",
       "    }\n",
       "</style>\n",
       "<table border=\"1\" class=\"dataframe\">\n",
       "  <thead>\n",
       "    <tr style=\"text-align: right;\">\n",
       "      <th></th>\n",
       "      <th>entry_id</th>\n",
       "      <th>country_id</th>\n",
       "      <th>status</th>\n",
       "      <th>job_id</th>\n",
       "      <th>p_id</th>\n",
       "      <th>c_id</th>\n",
       "      <th>role_id</th>\n",
       "      <th>date_declined</th>\n",
       "      <th>date_applied</th>\n",
       "      <th>date_rejected</th>\n",
       "      <th>...</th>\n",
       "      <th>worker_longitude</th>\n",
       "      <th>job_wage</th>\n",
       "      <th>num_applied_role</th>\n",
       "      <th>num_rejected_role</th>\n",
       "      <th>num_applied_company</th>\n",
       "      <th>num_rejected_company</th>\n",
       "      <th>wage_applied_role</th>\n",
       "      <th>wage_hired_role</th>\n",
       "      <th>num_hired_role</th>\n",
       "      <th>num_hired_company</th>\n",
       "    </tr>\n",
       "  </thead>\n",
       "  <tbody>\n",
       "    <tr>\n",
       "      <th>0</th>\n",
       "      <td>9111003f-dcd9-45b7-b8b0-02fef2771b24</td>\n",
       "      <td>1</td>\n",
       "      <td>applied</td>\n",
       "      <td>3957ab7d-a3fe-4a4b-a20a-e4bbb777b9ff</td>\n",
       "      <td>9f4e08ff-8690-4e89-b590-edcfe99e8cfc</td>\n",
       "      <td>0588fb6d-5e79-4cad-b957-d36347913fc5</td>\n",
       "      <td>72</td>\n",
       "      <td>NaT</td>\n",
       "      <td>2020-02-28 23:59:39</td>\n",
       "      <td>NaT</td>\n",
       "      <td>...</td>\n",
       "      <td>8.736907</td>\n",
       "      <td>25.00</td>\n",
       "      <td>7</td>\n",
       "      <td>0</td>\n",
       "      <td>0</td>\n",
       "      <td>0</td>\n",
       "      <td>25.068571</td>\n",
       "      <td>NaN</td>\n",
       "      <td>0</td>\n",
       "      <td>0</td>\n",
       "    </tr>\n",
       "    <tr>\n",
       "      <th>1</th>\n",
       "      <td>d8e0c803-3431-4e51-834c-2eff946dfb8f</td>\n",
       "      <td>1</td>\n",
       "      <td>applied</td>\n",
       "      <td>12175efb-ce22-47af-ba5c-4dc20e372e29</td>\n",
       "      <td>9f4e08ff-8690-4e89-b590-edcfe99e8cfc</td>\n",
       "      <td>28e59d7a-f842-452c-a53a-e2840b822e9e</td>\n",
       "      <td>72</td>\n",
       "      <td>NaT</td>\n",
       "      <td>2020-02-28 23:58:27</td>\n",
       "      <td>NaT</td>\n",
       "      <td>...</td>\n",
       "      <td>8.736907</td>\n",
       "      <td>23.32</td>\n",
       "      <td>6</td>\n",
       "      <td>0</td>\n",
       "      <td>0</td>\n",
       "      <td>0</td>\n",
       "      <td>25.360000</td>\n",
       "      <td>NaN</td>\n",
       "      <td>0</td>\n",
       "      <td>0</td>\n",
       "    </tr>\n",
       "    <tr>\n",
       "      <th>2</th>\n",
       "      <td>c204a359-a062-4491-b1c8-f61be7282af3</td>\n",
       "      <td>1</td>\n",
       "      <td>applied</td>\n",
       "      <td>4cb0b989-eb5b-49f7-9bd0-315c6ad39ab9</td>\n",
       "      <td>47442a43-e5d5-47be-90cb-a4091dc4bea1</td>\n",
       "      <td>76d88c4c-9085-4a59-ad35-b34b914964fb</td>\n",
       "      <td>4</td>\n",
       "      <td>NaT</td>\n",
       "      <td>2020-02-28 23:58:24</td>\n",
       "      <td>NaT</td>\n",
       "      <td>...</td>\n",
       "      <td>8.691771</td>\n",
       "      <td>25.50</td>\n",
       "      <td>2</td>\n",
       "      <td>0</td>\n",
       "      <td>0</td>\n",
       "      <td>0</td>\n",
       "      <td>25.450000</td>\n",
       "      <td>NaN</td>\n",
       "      <td>0</td>\n",
       "      <td>0</td>\n",
       "    </tr>\n",
       "    <tr>\n",
       "      <th>3</th>\n",
       "      <td>ec414ddd-c032-4225-98bf-e29546ac8397</td>\n",
       "      <td>1</td>\n",
       "      <td>applied</td>\n",
       "      <td>20390bb6-7e6a-4c06-b183-30ac12f7e3db</td>\n",
       "      <td>cd377b51-0839-4f8d-a50a-f5f8bec4f1a0</td>\n",
       "      <td>10cd2798-6c67-414c-ab60-fd45d4ca7d74</td>\n",
       "      <td>54</td>\n",
       "      <td>NaT</td>\n",
       "      <td>2020-02-28 23:58:16</td>\n",
       "      <td>NaT</td>\n",
       "      <td>...</td>\n",
       "      <td>8.556073</td>\n",
       "      <td>27.00</td>\n",
       "      <td>4</td>\n",
       "      <td>2</td>\n",
       "      <td>0</td>\n",
       "      <td>0</td>\n",
       "      <td>27.000000</td>\n",
       "      <td>NaN</td>\n",
       "      <td>0</td>\n",
       "      <td>0</td>\n",
       "    </tr>\n",
       "    <tr>\n",
       "      <th>4</th>\n",
       "      <td>3ab44063-0419-48cb-849d-4b0b040d4ce7</td>\n",
       "      <td>1</td>\n",
       "      <td>applied</td>\n",
       "      <td>82befe52-9bb1-49b3-9f65-41540909d66b</td>\n",
       "      <td>47442a43-e5d5-47be-90cb-a4091dc4bea1</td>\n",
       "      <td>10cd2798-6c67-414c-ab60-fd45d4ca7d74</td>\n",
       "      <td>54</td>\n",
       "      <td>NaT</td>\n",
       "      <td>2020-02-28 23:58:02</td>\n",
       "      <td>NaT</td>\n",
       "      <td>...</td>\n",
       "      <td>8.691771</td>\n",
       "      <td>27.00</td>\n",
       "      <td>2</td>\n",
       "      <td>0</td>\n",
       "      <td>2</td>\n",
       "      <td>0</td>\n",
       "      <td>27.000000</td>\n",
       "      <td>NaN</td>\n",
       "      <td>0</td>\n",
       "      <td>0</td>\n",
       "    </tr>\n",
       "  </tbody>\n",
       "</table>\n",
       "<p>5 rows × 31 columns</p>\n",
       "</div>"
      ],
      "text/plain": [
       "                               entry_id  country_id   status  \\\n",
       "0  9111003f-dcd9-45b7-b8b0-02fef2771b24           1  applied   \n",
       "1  d8e0c803-3431-4e51-834c-2eff946dfb8f           1  applied   \n",
       "2  c204a359-a062-4491-b1c8-f61be7282af3           1  applied   \n",
       "3  ec414ddd-c032-4225-98bf-e29546ac8397           1  applied   \n",
       "4  3ab44063-0419-48cb-849d-4b0b040d4ce7           1  applied   \n",
       "\n",
       "                                 job_id                                  p_id  \\\n",
       "0  3957ab7d-a3fe-4a4b-a20a-e4bbb777b9ff  9f4e08ff-8690-4e89-b590-edcfe99e8cfc   \n",
       "1  12175efb-ce22-47af-ba5c-4dc20e372e29  9f4e08ff-8690-4e89-b590-edcfe99e8cfc   \n",
       "2  4cb0b989-eb5b-49f7-9bd0-315c6ad39ab9  47442a43-e5d5-47be-90cb-a4091dc4bea1   \n",
       "3  20390bb6-7e6a-4c06-b183-30ac12f7e3db  cd377b51-0839-4f8d-a50a-f5f8bec4f1a0   \n",
       "4  82befe52-9bb1-49b3-9f65-41540909d66b  47442a43-e5d5-47be-90cb-a4091dc4bea1   \n",
       "\n",
       "                                   c_id  role_id date_declined  \\\n",
       "0  0588fb6d-5e79-4cad-b957-d36347913fc5       72           NaT   \n",
       "1  28e59d7a-f842-452c-a53a-e2840b822e9e       72           NaT   \n",
       "2  76d88c4c-9085-4a59-ad35-b34b914964fb        4           NaT   \n",
       "3  10cd2798-6c67-414c-ab60-fd45d4ca7d74       54           NaT   \n",
       "4  10cd2798-6c67-414c-ab60-fd45d4ca7d74       54           NaT   \n",
       "\n",
       "         date_applied date_rejected  ... worker_longitude job_wage  \\\n",
       "0 2020-02-28 23:59:39           NaT  ...         8.736907    25.00   \n",
       "1 2020-02-28 23:58:27           NaT  ...         8.736907    23.32   \n",
       "2 2020-02-28 23:58:24           NaT  ...         8.691771    25.50   \n",
       "3 2020-02-28 23:58:16           NaT  ...         8.556073    27.00   \n",
       "4 2020-02-28 23:58:02           NaT  ...         8.691771    27.00   \n",
       "\n",
       "   num_applied_role  num_rejected_role  num_applied_company  \\\n",
       "0                 7                  0                    0   \n",
       "1                 6                  0                    0   \n",
       "2                 2                  0                    0   \n",
       "3                 4                  2                    0   \n",
       "4                 2                  0                    2   \n",
       "\n",
       "   num_rejected_company  wage_applied_role  wage_hired_role  num_hired_role  \\\n",
       "0                     0          25.068571              NaN               0   \n",
       "1                     0          25.360000              NaN               0   \n",
       "2                     0          25.450000              NaN               0   \n",
       "3                     0          27.000000              NaN               0   \n",
       "4                     0          27.000000              NaN               0   \n",
       "\n",
       "   num_hired_company  \n",
       "0                  0  \n",
       "1                  0  \n",
       "2                  0  \n",
       "3                  0  \n",
       "4                  0  \n",
       "\n",
       "[5 rows x 31 columns]"
      ]
     },
     "execution_count": 256,
     "metadata": {},
     "output_type": "execute_result"
    }
   ],
   "source": [
    "df.head()"
   ]
  },
  {
   "cell_type": "code",
   "execution_count": 257,
   "metadata": {
    "scrolled": false
   },
   "outputs": [
    {
     "data": {
      "text/html": [
       "<div>\n",
       "<style scoped>\n",
       "    .dataframe tbody tr th:only-of-type {\n",
       "        vertical-align: middle;\n",
       "    }\n",
       "\n",
       "    .dataframe tbody tr th {\n",
       "        vertical-align: top;\n",
       "    }\n",
       "\n",
       "    .dataframe thead th {\n",
       "        text-align: right;\n",
       "    }\n",
       "</style>\n",
       "<table border=\"1\" class=\"dataframe\">\n",
       "  <thead>\n",
       "    <tr style=\"text-align: right;\">\n",
       "      <th></th>\n",
       "      <th>country_id</th>\n",
       "      <th>role_id</th>\n",
       "      <th>job_title_length</th>\n",
       "      <th>job_description_length</th>\n",
       "      <th>job_time_dow_from</th>\n",
       "      <th>job_time_hour_from</th>\n",
       "      <th>job_time_dow_to</th>\n",
       "      <th>job_time_hour_to</th>\n",
       "      <th>job_latitude</th>\n",
       "      <th>job_longitude</th>\n",
       "      <th>...</th>\n",
       "      <th>worker_longitude</th>\n",
       "      <th>job_wage</th>\n",
       "      <th>num_applied_role</th>\n",
       "      <th>num_rejected_role</th>\n",
       "      <th>num_applied_company</th>\n",
       "      <th>num_rejected_company</th>\n",
       "      <th>wage_applied_role</th>\n",
       "      <th>wage_hired_role</th>\n",
       "      <th>num_hired_role</th>\n",
       "      <th>num_hired_company</th>\n",
       "    </tr>\n",
       "  </thead>\n",
       "  <tbody>\n",
       "    <tr>\n",
       "      <th>count</th>\n",
       "      <td>100736.000000</td>\n",
       "      <td>100736.000000</td>\n",
       "      <td>100736.000000</td>\n",
       "      <td>100736.000000</td>\n",
       "      <td>100736.000000</td>\n",
       "      <td>100736.000000</td>\n",
       "      <td>100736.000000</td>\n",
       "      <td>100736.000000</td>\n",
       "      <td>100736.000000</td>\n",
       "      <td>100736.000000</td>\n",
       "      <td>...</td>\n",
       "      <td>99330.000000</td>\n",
       "      <td>100704.000000</td>\n",
       "      <td>100736.000000</td>\n",
       "      <td>100736.000000</td>\n",
       "      <td>100736.000000</td>\n",
       "      <td>100736.000000</td>\n",
       "      <td>76067.000000</td>\n",
       "      <td>7749.000000</td>\n",
       "      <td>100736.000000</td>\n",
       "      <td>100736.000000</td>\n",
       "    </tr>\n",
       "    <tr>\n",
       "      <th>mean</th>\n",
       "      <td>1.267591</td>\n",
       "      <td>172.111996</td>\n",
       "      <td>34.657531</td>\n",
       "      <td>385.039658</td>\n",
       "      <td>4.273735</td>\n",
       "      <td>11.566113</td>\n",
       "      <td>4.500069</td>\n",
       "      <td>16.261217</td>\n",
       "      <td>48.376277</td>\n",
       "      <td>5.955970</td>\n",
       "      <td>...</td>\n",
       "      <td>6.020770</td>\n",
       "      <td>22.481285</td>\n",
       "      <td>48.685594</td>\n",
       "      <td>6.177414</td>\n",
       "      <td>2.455607</td>\n",
       "      <td>0.290472</td>\n",
       "      <td>21.795773</td>\n",
       "      <td>21.457277</td>\n",
       "      <td>7.664460</td>\n",
       "      <td>0.478369</td>\n",
       "    </tr>\n",
       "    <tr>\n",
       "      <th>std</th>\n",
       "      <td>0.443019</td>\n",
       "      <td>316.612862</td>\n",
       "      <td>20.055864</td>\n",
       "      <td>447.395729</td>\n",
       "      <td>1.948131</td>\n",
       "      <td>3.833782</td>\n",
       "      <td>2.176146</td>\n",
       "      <td>5.633313</td>\n",
       "      <td>1.920780</td>\n",
       "      <td>3.732155</td>\n",
       "      <td>...</td>\n",
       "      <td>3.915476</td>\n",
       "      <td>23.992544</td>\n",
       "      <td>132.039984</td>\n",
       "      <td>23.128861</td>\n",
       "      <td>10.536597</td>\n",
       "      <td>1.674866</td>\n",
       "      <td>34.236833</td>\n",
       "      <td>46.894422</td>\n",
       "      <td>24.687474</td>\n",
       "      <td>5.196456</td>\n",
       "    </tr>\n",
       "    <tr>\n",
       "      <th>min</th>\n",
       "      <td>1.000000</td>\n",
       "      <td>1.000000</td>\n",
       "      <td>4.000000</td>\n",
       "      <td>0.000000</td>\n",
       "      <td>1.000000</td>\n",
       "      <td>1.000000</td>\n",
       "      <td>1.000000</td>\n",
       "      <td>0.000000</td>\n",
       "      <td>45.869585</td>\n",
       "      <td>-2.167194</td>\n",
       "      <td>...</td>\n",
       "      <td>-50.428290</td>\n",
       "      <td>8.210000</td>\n",
       "      <td>0.000000</td>\n",
       "      <td>0.000000</td>\n",
       "      <td>0.000000</td>\n",
       "      <td>0.000000</td>\n",
       "      <td>0.000000</td>\n",
       "      <td>0.000000</td>\n",
       "      <td>0.000000</td>\n",
       "      <td>0.000000</td>\n",
       "    </tr>\n",
       "    <tr>\n",
       "      <th>25%</th>\n",
       "      <td>1.000000</td>\n",
       "      <td>37.000000</td>\n",
       "      <td>19.000000</td>\n",
       "      <td>88.000000</td>\n",
       "      <td>2.000000</td>\n",
       "      <td>9.000000</td>\n",
       "      <td>3.000000</td>\n",
       "      <td>15.000000</td>\n",
       "      <td>47.308527</td>\n",
       "      <td>-0.050900</td>\n",
       "      <td>...</td>\n",
       "      <td>0.067889</td>\n",
       "      <td>10.550000</td>\n",
       "      <td>1.000000</td>\n",
       "      <td>0.000000</td>\n",
       "      <td>0.000000</td>\n",
       "      <td>0.000000</td>\n",
       "      <td>9.675928</td>\n",
       "      <td>9.000000</td>\n",
       "      <td>0.000000</td>\n",
       "      <td>0.000000</td>\n",
       "    </tr>\n",
       "    <tr>\n",
       "      <th>50%</th>\n",
       "      <td>1.000000</td>\n",
       "      <td>72.000000</td>\n",
       "      <td>31.000000</td>\n",
       "      <td>224.000000</td>\n",
       "      <td>4.000000</td>\n",
       "      <td>11.000000</td>\n",
       "      <td>5.000000</td>\n",
       "      <td>17.000000</td>\n",
       "      <td>47.408211</td>\n",
       "      <td>7.928618</td>\n",
       "      <td>...</td>\n",
       "      <td>8.091019</td>\n",
       "      <td>25.450000</td>\n",
       "      <td>6.000000</td>\n",
       "      <td>0.000000</td>\n",
       "      <td>0.000000</td>\n",
       "      <td>0.000000</td>\n",
       "      <td>24.930000</td>\n",
       "      <td>23.350000</td>\n",
       "      <td>0.000000</td>\n",
       "      <td>0.000000</td>\n",
       "    </tr>\n",
       "    <tr>\n",
       "      <th>75%</th>\n",
       "      <td>2.000000</td>\n",
       "      <td>72.000000</td>\n",
       "      <td>47.000000</td>\n",
       "      <td>493.000000</td>\n",
       "      <td>6.000000</td>\n",
       "      <td>15.000000</td>\n",
       "      <td>6.000000</td>\n",
       "      <td>20.000000</td>\n",
       "      <td>51.455733</td>\n",
       "      <td>8.540323</td>\n",
       "      <td>...</td>\n",
       "      <td>8.554411</td>\n",
       "      <td>27.000000</td>\n",
       "      <td>39.000000</td>\n",
       "      <td>4.000000</td>\n",
       "      <td>1.000000</td>\n",
       "      <td>0.000000</td>\n",
       "      <td>25.897452</td>\n",
       "      <td>25.000000</td>\n",
       "      <td>3.000000</td>\n",
       "      <td>0.000000</td>\n",
       "    </tr>\n",
       "    <tr>\n",
       "      <th>max</th>\n",
       "      <td>3.000000</td>\n",
       "      <td>1037.000000</td>\n",
       "      <td>143.000000</td>\n",
       "      <td>2032.000000</td>\n",
       "      <td>7.000000</td>\n",
       "      <td>23.000000</td>\n",
       "      <td>7.000000</td>\n",
       "      <td>23.000000</td>\n",
       "      <td>53.359760</td>\n",
       "      <td>9.822876</td>\n",
       "      <td>...</td>\n",
       "      <td>99.825221</td>\n",
       "      <td>1000.000000</td>\n",
       "      <td>1824.000000</td>\n",
       "      <td>340.000000</td>\n",
       "      <td>502.000000</td>\n",
       "      <td>61.000000</td>\n",
       "      <td>3146.850000</td>\n",
       "      <td>1000.000000</td>\n",
       "      <td>380.000000</td>\n",
       "      <td>316.000000</td>\n",
       "    </tr>\n",
       "  </tbody>\n",
       "</table>\n",
       "<p>8 rows × 21 columns</p>\n",
       "</div>"
      ],
      "text/plain": [
       "          country_id        role_id  job_title_length  job_description_length  \\\n",
       "count  100736.000000  100736.000000     100736.000000           100736.000000   \n",
       "mean        1.267591     172.111996         34.657531              385.039658   \n",
       "std         0.443019     316.612862         20.055864              447.395729   \n",
       "min         1.000000       1.000000          4.000000                0.000000   \n",
       "25%         1.000000      37.000000         19.000000               88.000000   \n",
       "50%         1.000000      72.000000         31.000000              224.000000   \n",
       "75%         2.000000      72.000000         47.000000              493.000000   \n",
       "max         3.000000    1037.000000        143.000000             2032.000000   \n",
       "\n",
       "       job_time_dow_from  job_time_hour_from  job_time_dow_to  \\\n",
       "count      100736.000000       100736.000000    100736.000000   \n",
       "mean            4.273735           11.566113         4.500069   \n",
       "std             1.948131            3.833782         2.176146   \n",
       "min             1.000000            1.000000         1.000000   \n",
       "25%             2.000000            9.000000         3.000000   \n",
       "50%             4.000000           11.000000         5.000000   \n",
       "75%             6.000000           15.000000         6.000000   \n",
       "max             7.000000           23.000000         7.000000   \n",
       "\n",
       "       job_time_hour_to   job_latitude  job_longitude  ...  worker_longitude  \\\n",
       "count     100736.000000  100736.000000  100736.000000  ...      99330.000000   \n",
       "mean          16.261217      48.376277       5.955970  ...          6.020770   \n",
       "std            5.633313       1.920780       3.732155  ...          3.915476   \n",
       "min            0.000000      45.869585      -2.167194  ...        -50.428290   \n",
       "25%           15.000000      47.308527      -0.050900  ...          0.067889   \n",
       "50%           17.000000      47.408211       7.928618  ...          8.091019   \n",
       "75%           20.000000      51.455733       8.540323  ...          8.554411   \n",
       "max           23.000000      53.359760       9.822876  ...         99.825221   \n",
       "\n",
       "            job_wage  num_applied_role  num_rejected_role  \\\n",
       "count  100704.000000     100736.000000      100736.000000   \n",
       "mean       22.481285         48.685594           6.177414   \n",
       "std        23.992544        132.039984          23.128861   \n",
       "min         8.210000          0.000000           0.000000   \n",
       "25%        10.550000          1.000000           0.000000   \n",
       "50%        25.450000          6.000000           0.000000   \n",
       "75%        27.000000         39.000000           4.000000   \n",
       "max      1000.000000       1824.000000         340.000000   \n",
       "\n",
       "       num_applied_company  num_rejected_company  wage_applied_role  \\\n",
       "count        100736.000000         100736.000000       76067.000000   \n",
       "mean              2.455607              0.290472          21.795773   \n",
       "std              10.536597              1.674866          34.236833   \n",
       "min               0.000000              0.000000           0.000000   \n",
       "25%               0.000000              0.000000           9.675928   \n",
       "50%               0.000000              0.000000          24.930000   \n",
       "75%               1.000000              0.000000          25.897452   \n",
       "max             502.000000             61.000000        3146.850000   \n",
       "\n",
       "       wage_hired_role  num_hired_role  num_hired_company  \n",
       "count      7749.000000   100736.000000      100736.000000  \n",
       "mean         21.457277        7.664460           0.478369  \n",
       "std          46.894422       24.687474           5.196456  \n",
       "min           0.000000        0.000000           0.000000  \n",
       "25%           9.000000        0.000000           0.000000  \n",
       "50%          23.350000        0.000000           0.000000  \n",
       "75%          25.000000        3.000000           0.000000  \n",
       "max        1000.000000      380.000000         316.000000  \n",
       "\n",
       "[8 rows x 21 columns]"
      ]
     },
     "execution_count": 257,
     "metadata": {},
     "output_type": "execute_result"
    }
   ],
   "source": [
    "df.describe()"
   ]
  },
  {
   "cell_type": "markdown",
   "metadata": {},
   "source": [
    "###### Remarks\n",
    "* There are many _id fields which need to be removed\n",
    "* All the date fields can be removed too\n",
    "* We have the location of the person and the job, so its possible to calculate the distance to work\n",
    "* We have the job_wage and also the average wage of jobs a worker previously applied to, so we can calculate the delta and use that as a new feature\n",
    "* There are no categorical data points to explore"
   ]
  },
  {
   "cell_type": "code",
   "execution_count": 258,
   "metadata": {
    "scrolled": false
   },
   "outputs": [
    {
     "name": "stdout",
     "output_type": "stream",
     "text": [
      "<class 'pandas.core.frame.DataFrame'>\n",
      "RangeIndex: 100736 entries, 0 to 100735\n",
      "Data columns (total 31 columns):\n",
      "entry_id                  100736 non-null object\n",
      "country_id                100736 non-null int64\n",
      "status                    100736 non-null object\n",
      "job_id                    100736 non-null object\n",
      "p_id                      100736 non-null object\n",
      "c_id                      100736 non-null object\n",
      "role_id                   100736 non-null int64\n",
      "date_declined             71138 non-null datetime64[ns]\n",
      "date_applied              32154 non-null datetime64[ns]\n",
      "date_rejected             4616 non-null datetime64[ns]\n",
      "date_hired                2280 non-null datetime64[ns]\n",
      "date_job_created          100736 non-null datetime64[ns]\n",
      "job_title_length          100736 non-null int64\n",
      "job_description_length    100736 non-null int64\n",
      "job_time_dow_from         100736 non-null int64\n",
      "job_time_hour_from        100736 non-null int64\n",
      "job_time_dow_to           100736 non-null int64\n",
      "job_time_hour_to          100736 non-null int64\n",
      "job_latitude              100736 non-null float64\n",
      "job_longitude             100736 non-null float64\n",
      "worker_latitude           99396 non-null float64\n",
      "worker_longitude          99330 non-null float64\n",
      "job_wage                  100704 non-null float64\n",
      "num_applied_role          100736 non-null int64\n",
      "num_rejected_role         100736 non-null int64\n",
      "num_applied_company       100736 non-null int64\n",
      "num_rejected_company      100736 non-null int64\n",
      "wage_applied_role         76067 non-null float64\n",
      "wage_hired_role           7749 non-null float64\n",
      "num_hired_role            100736 non-null int64\n",
      "num_hired_company         100736 non-null int64\n",
      "dtypes: datetime64[ns](5), float64(7), int64(14), object(5)\n",
      "memory usage: 23.8+ MB\n"
     ]
    }
   ],
   "source": [
    "df.info()"
   ]
  },
  {
   "cell_type": "code",
   "execution_count": 259,
   "metadata": {
    "scrolled": false
   },
   "outputs": [
    {
     "data": {
      "text/plain": [
       "<matplotlib.axes._subplots.AxesSubplot at 0x1a461a6e10>"
      ]
     },
     "execution_count": 259,
     "metadata": {},
     "output_type": "execute_result"
    },
    {
     "data": {
      "image/png": "[encoded data removed]",
      "text/plain": [
       "<Figure size 1800x720 with 2 Axes>"
      ]
     },
     "metadata": {},
     "output_type": "display_data"
    }
   ],
   "source": [
    "msno.matrix(df) "
   ]
  },
  {
   "cell_type": "code",
   "execution_count": 71,
   "metadata": {},
   "outputs": [
    {
     "data": {
      "text/plain": [
       "entry_id                      0\n",
       "country_id                    0\n",
       "status                        0\n",
       "job_id                        0\n",
       "p_id                          0\n",
       "c_id                          0\n",
       "role_id                       0\n",
       "date_declined             29598\n",
       "date_applied              68582\n",
       "date_rejected             96120\n",
       "date_hired                98456\n",
       "date_job_created              0\n",
       "job_title_length              0\n",
       "job_description_length        0\n",
       "job_time_dow_from             0\n",
       "job_time_hour_from            0\n",
       "job_time_dow_to               0\n",
       "job_time_hour_to              0\n",
       "job_latitude                  0\n",
       "job_longitude                 0\n",
       "worker_latitude            1340\n",
       "worker_longitude           1406\n",
       "job_wage                     32\n",
       "num_applied_role              0\n",
       "num_rejected_role             0\n",
       "num_applied_company           0\n",
       "num_rejected_company          0\n",
       "wage_applied_role         24669\n",
       "wage_hired_role           92987\n",
       "num_hired_role                0\n",
       "num_hired_company             0\n",
       "dtype: int64"
      ]
     },
     "execution_count": 71,
     "metadata": {},
     "output_type": "execute_result"
    }
   ],
   "source": [
    "df.isnull().sum()"
   ]
  },
  {
   "cell_type": "markdown",
   "metadata": {},
   "source": [
    "###### Remarks (missing data):\n",
    "* There are some missing values which we'll need to deal with\n",
    "* There are also days where someone had applied for a job, and then declined it. For those days we should probably set the \"date_applied\" to zero\n",
    "* Some job_wage are missing. We'll set those to zero."
   ]
  },
  {
   "cell_type": "code",
   "execution_count": 260,
   "metadata": {
    "scrolled": true
   },
   "outputs": [],
   "source": [
    "main_data_columns = [\n",
    "    'job_title_length',\n",
    "    'job_description_length',\n",
    "    'job_wage',\n",
    "    'num_applied_role',\n",
    "    'num_rejected_role',\n",
    "    'num_applied_company',\n",
    "    'num_rejected_company',\n",
    "    'wage_applied_role',\n",
    "    'wage_hired_role',\n",
    "    'num_hired_role',\n",
    "    'num_hired_company'\n",
    "]"
   ]
  },
  {
   "cell_type": "code",
   "execution_count": 261,
   "metadata": {},
   "outputs": [
    {
     "data": {
      "text/html": [
       "<div>\n",
       "<style scoped>\n",
       "    .dataframe tbody tr th:only-of-type {\n",
       "        vertical-align: middle;\n",
       "    }\n",
       "\n",
       "    .dataframe tbody tr th {\n",
       "        vertical-align: top;\n",
       "    }\n",
       "\n",
       "    .dataframe thead th {\n",
       "        text-align: right;\n",
       "    }\n",
       "</style>\n",
       "<table border=\"1\" class=\"dataframe\">\n",
       "  <thead>\n",
       "    <tr style=\"text-align: right;\">\n",
       "      <th></th>\n",
       "      <th>job_title_length</th>\n",
       "      <th>job_description_length</th>\n",
       "      <th>job_wage</th>\n",
       "      <th>num_applied_role</th>\n",
       "      <th>num_rejected_role</th>\n",
       "      <th>num_applied_company</th>\n",
       "      <th>num_rejected_company</th>\n",
       "      <th>wage_applied_role</th>\n",
       "      <th>wage_hired_role</th>\n",
       "      <th>num_hired_role</th>\n",
       "      <th>num_hired_company</th>\n",
       "    </tr>\n",
       "    <tr>\n",
       "      <th>status</th>\n",
       "      <th></th>\n",
       "      <th></th>\n",
       "      <th></th>\n",
       "      <th></th>\n",
       "      <th></th>\n",
       "      <th></th>\n",
       "      <th></th>\n",
       "      <th></th>\n",
       "      <th></th>\n",
       "      <th></th>\n",
       "      <th></th>\n",
       "    </tr>\n",
       "  </thead>\n",
       "  <tbody>\n",
       "    <tr>\n",
       "      <th>applied</th>\n",
       "      <td>35.419109</td>\n",
       "      <td>354.848752</td>\n",
       "      <td>28.541514</td>\n",
       "      <td>64.130524</td>\n",
       "      <td>8.185597</td>\n",
       "      <td>3.848466</td>\n",
       "      <td>0.382585</td>\n",
       "      <td>27.350596</td>\n",
       "      <td>26.917766</td>\n",
       "      <td>8.468628</td>\n",
       "      <td>0.901076</td>\n",
       "    </tr>\n",
       "    <tr>\n",
       "      <th>declined</th>\n",
       "      <td>35.263058</td>\n",
       "      <td>365.336683</td>\n",
       "      <td>26.929708</td>\n",
       "      <td>45.362497</td>\n",
       "      <td>6.421244</td>\n",
       "      <td>1.108316</td>\n",
       "      <td>0.142740</td>\n",
       "      <td>27.468214</td>\n",
       "      <td>30.777225</td>\n",
       "      <td>6.563665</td>\n",
       "      <td>0.181550</td>\n",
       "    </tr>\n",
       "  </tbody>\n",
       "</table>\n",
       "</div>"
      ],
      "text/plain": [
       "          job_title_length  job_description_length   job_wage  \\\n",
       "status                                                          \n",
       "applied          35.419109              354.848752  28.541514   \n",
       "declined         35.263058              365.336683  26.929708   \n",
       "\n",
       "          num_applied_role  num_rejected_role  num_applied_company  \\\n",
       "status                                                               \n",
       "applied          64.130524           8.185597             3.848466   \n",
       "declined         45.362497           6.421244             1.108316   \n",
       "\n",
       "          num_rejected_company  wage_applied_role  wage_hired_role  \\\n",
       "status                                                               \n",
       "applied               0.382585          27.350596        26.917766   \n",
       "declined              0.142740          27.468214        30.777225   \n",
       "\n",
       "          num_hired_role  num_hired_company  \n",
       "status                                       \n",
       "applied         8.468628           0.901076  \n",
       "declined        6.563665           0.181550  "
      ]
     },
     "execution_count": 261,
     "metadata": {},
     "output_type": "execute_result"
    }
   ],
   "source": [
    "df_de.groupby(['status'])[main_data_columns].mean()"
   ]
  },
  {
   "cell_type": "code",
   "execution_count": 262,
   "metadata": {},
   "outputs": [
    {
     "data": {
      "text/html": [
       "<div>\n",
       "<style scoped>\n",
       "    .dataframe tbody tr th:only-of-type {\n",
       "        vertical-align: middle;\n",
       "    }\n",
       "\n",
       "    .dataframe tbody tr th {\n",
       "        vertical-align: top;\n",
       "    }\n",
       "\n",
       "    .dataframe thead th {\n",
       "        text-align: right;\n",
       "    }\n",
       "</style>\n",
       "<table border=\"1\" class=\"dataframe\">\n",
       "  <thead>\n",
       "    <tr style=\"text-align: right;\">\n",
       "      <th></th>\n",
       "      <th>job_title_length</th>\n",
       "      <th>job_description_length</th>\n",
       "      <th>job_wage</th>\n",
       "      <th>num_applied_role</th>\n",
       "      <th>num_rejected_role</th>\n",
       "      <th>num_applied_company</th>\n",
       "      <th>num_rejected_company</th>\n",
       "      <th>wage_applied_role</th>\n",
       "      <th>wage_hired_role</th>\n",
       "      <th>num_hired_role</th>\n",
       "      <th>num_hired_company</th>\n",
       "    </tr>\n",
       "    <tr>\n",
       "      <th>status</th>\n",
       "      <th></th>\n",
       "      <th></th>\n",
       "      <th></th>\n",
       "      <th></th>\n",
       "      <th></th>\n",
       "      <th></th>\n",
       "      <th></th>\n",
       "      <th></th>\n",
       "      <th></th>\n",
       "      <th></th>\n",
       "      <th></th>\n",
       "    </tr>\n",
       "  </thead>\n",
       "  <tbody>\n",
       "    <tr>\n",
       "      <th>applied</th>\n",
       "      <td>32.254549</td>\n",
       "      <td>423.600423</td>\n",
       "      <td>9.359488</td>\n",
       "      <td>52.002522</td>\n",
       "      <td>4.792203</td>\n",
       "      <td>6.236352</td>\n",
       "      <td>0.690179</td>\n",
       "      <td>9.229202</td>\n",
       "      <td>10.166554</td>\n",
       "      <td>10.582839</td>\n",
       "      <td>1.196279</td>\n",
       "    </tr>\n",
       "    <tr>\n",
       "      <th>declined</th>\n",
       "      <td>33.682171</td>\n",
       "      <td>471.666422</td>\n",
       "      <td>9.134862</td>\n",
       "      <td>38.027907</td>\n",
       "      <td>3.859894</td>\n",
       "      <td>2.138229</td>\n",
       "      <td>0.359935</td>\n",
       "      <td>9.253604</td>\n",
       "      <td>12.665811</td>\n",
       "      <td>8.089270</td>\n",
       "      <td>0.378866</td>\n",
       "    </tr>\n",
       "  </tbody>\n",
       "</table>\n",
       "</div>"
      ],
      "text/plain": [
       "          job_title_length  job_description_length  job_wage  \\\n",
       "status                                                         \n",
       "applied          32.254549              423.600423  9.359488   \n",
       "declined         33.682171              471.666422  9.134862   \n",
       "\n",
       "          num_applied_role  num_rejected_role  num_applied_company  \\\n",
       "status                                                               \n",
       "applied          52.002522           4.792203             6.236352   \n",
       "declined         38.027907           3.859894             2.138229   \n",
       "\n",
       "          num_rejected_company  wage_applied_role  wage_hired_role  \\\n",
       "status                                                               \n",
       "applied               0.690179           9.229202        10.166554   \n",
       "declined              0.359935           9.253604        12.665811   \n",
       "\n",
       "          num_hired_role  num_hired_company  \n",
       "status                                       \n",
       "applied        10.582839           1.196279  \n",
       "declined        8.089270           0.378866  "
      ]
     },
     "execution_count": 262,
     "metadata": {},
     "output_type": "execute_result"
    }
   ],
   "source": [
    "df_uk.groupby(['status'])[main_data_columns].mean()"
   ]
  },
  {
   "cell_type": "markdown",
   "metadata": {},
   "source": [
    "## Data Cleaning"
   ]
  },
  {
   "cell_type": "markdown",
   "metadata": {},
   "source": [
    "There are no duplicates to remove."
   ]
  },
  {
   "cell_type": "markdown",
   "metadata": {},
   "source": [
    "Also, before we drop any unnecessary data points, we'll use them to engineer some new features."
   ]
  },
  {
   "cell_type": "markdown",
   "metadata": {},
   "source": [
    "#### Convert status into a numerical variable"
   ]
  },
  {
   "cell_type": "code",
   "execution_count": 263,
   "metadata": {},
   "outputs": [],
   "source": [
    "df['status'] = pd.get_dummies(df.status).applied"
   ]
  },
  {
   "cell_type": "markdown",
   "metadata": {},
   "source": [
    "## Feature Engineering"
   ]
  },
  {
   "cell_type": "markdown",
   "metadata": {},
   "source": [
    "#### New feature: \"distance_to_work\""
   ]
  },
  {
   "cell_type": "markdown",
   "metadata": {},
   "source": [
    "Article on how to calculate the distance between 2 points:\n",
    "\n",
    "https://stackoverflow.com/questions/60649233/python-pandas-error-the-truth-value-of-a-series-is-ambiguous-when-engineerin"
   ]
  },
  {
   "cell_type": "code",
   "execution_count": 264,
   "metadata": {},
   "outputs": [],
   "source": [
    "# Function for calculating the distance\n",
    "# This function will receive a row of data from the dataframe and return the distance or 0 if an error is encountered\n",
    "\n",
    "def get_distance(row):\n",
    "    try:\n",
    "        # Since there are some missing worker coordinateds, we should deal with them:\n",
    "        if not (math.isnan(row['worker_latitude']) or math.isnan(row['worker_longitude'])):\n",
    "            distance = geopy.distance.geodesic((row['job_latitude'], row['job_longitude']), \n",
    "                                           (row['worker_latitude'], row['worker_longitude'])).km\n",
    "            df['has_distance'] = 1\n",
    "        else:\n",
    "            distance = 0\n",
    "            df['has_distance'] = 0\n",
    "        return distance\n",
    "    except ValueError as e:\n",
    "        print(e)\n",
    "        return 0"
   ]
  },
  {
   "cell_type": "code",
   "execution_count": 265,
   "metadata": {},
   "outputs": [],
   "source": [
    "# Calculate the new distance feature\n",
    "# For every row get_distance function is called and the row is passed into the function\n",
    "\n",
    "df['distance_to_job'] = df.apply(get_distance, axis=1)"
   ]
  },
  {
   "cell_type": "code",
   "execution_count": 266,
   "metadata": {},
   "outputs": [
    {
     "data": {
      "text/html": [
       "<div>\n",
       "<style scoped>\n",
       "    .dataframe tbody tr th:only-of-type {\n",
       "        vertical-align: middle;\n",
       "    }\n",
       "\n",
       "    .dataframe tbody tr th {\n",
       "        vertical-align: top;\n",
       "    }\n",
       "\n",
       "    .dataframe thead th {\n",
       "        text-align: right;\n",
       "    }\n",
       "</style>\n",
       "<table border=\"1\" class=\"dataframe\">\n",
       "  <thead>\n",
       "    <tr style=\"text-align: right;\">\n",
       "      <th></th>\n",
       "      <th>job_latitude</th>\n",
       "      <th>job_longitude</th>\n",
       "      <th>worker_latitude</th>\n",
       "      <th>worker_longitude</th>\n",
       "      <th>distance_to_job</th>\n",
       "    </tr>\n",
       "  </thead>\n",
       "  <tbody>\n",
       "    <tr>\n",
       "      <th>0</th>\n",
       "      <td>47.384262</td>\n",
       "      <td>8.574091</td>\n",
       "      <td>47.497915</td>\n",
       "      <td>8.736907</td>\n",
       "      <td>17.620530</td>\n",
       "    </tr>\n",
       "    <tr>\n",
       "      <th>1</th>\n",
       "      <td>47.440155</td>\n",
       "      <td>8.557808</td>\n",
       "      <td>47.497915</td>\n",
       "      <td>8.736907</td>\n",
       "      <td>14.951225</td>\n",
       "    </tr>\n",
       "    <tr>\n",
       "      <th>2</th>\n",
       "      <td>47.408844</td>\n",
       "      <td>8.595373</td>\n",
       "      <td>47.421573</td>\n",
       "      <td>8.691771</td>\n",
       "      <td>7.411042</td>\n",
       "    </tr>\n",
       "    <tr>\n",
       "      <th>3</th>\n",
       "      <td>47.408299</td>\n",
       "      <td>8.595949</td>\n",
       "      <td>47.405884</td>\n",
       "      <td>8.556073</td>\n",
       "      <td>3.021688</td>\n",
       "    </tr>\n",
       "    <tr>\n",
       "      <th>4</th>\n",
       "      <td>47.408299</td>\n",
       "      <td>8.595949</td>\n",
       "      <td>47.421573</td>\n",
       "      <td>8.691771</td>\n",
       "      <td>7.380269</td>\n",
       "    </tr>\n",
       "  </tbody>\n",
       "</table>\n",
       "</div>"
      ],
      "text/plain": [
       "   job_latitude  job_longitude  worker_latitude  worker_longitude  \\\n",
       "0     47.384262       8.574091        47.497915          8.736907   \n",
       "1     47.440155       8.557808        47.497915          8.736907   \n",
       "2     47.408844       8.595373        47.421573          8.691771   \n",
       "3     47.408299       8.595949        47.405884          8.556073   \n",
       "4     47.408299       8.595949        47.421573          8.691771   \n",
       "\n",
       "   distance_to_job  \n",
       "0        17.620530  \n",
       "1        14.951225  \n",
       "2         7.411042  \n",
       "3         3.021688  \n",
       "4         7.380269  "
      ]
     },
     "execution_count": 266,
     "metadata": {},
     "output_type": "execute_result"
    }
   ],
   "source": [
    "# Check that everything has worked:\n",
    "\n",
    "df[['job_latitude','job_longitude','worker_latitude','worker_longitude','distance_to_job']].head()"
   ]
  },
  {
   "cell_type": "code",
   "execution_count": 267,
   "metadata": {},
   "outputs": [
    {
     "data": {
      "text/plain": [
       "0"
      ]
     },
     "execution_count": 267,
     "metadata": {},
     "output_type": "execute_result"
    }
   ],
   "source": [
    "# Check for null values:\n",
    "df.distance_to_job.isnull().sum()"
   ]
  },
  {
   "cell_type": "markdown",
   "metadata": {},
   "source": [
    "#### New feature: \"time_to_action\" - how long it takes for the user to take action after a job is created"
   ]
  },
  {
   "cell_type": "markdown",
   "metadata": {},
   "source": [
    "Remember that the datetime64 is a numpy object and is very specific (and experimental):\n",
    "\n",
    "https://numpy.org/devdocs/reference/arrays.datetime.html   (NaT = Not a Time)\n",
    "\n",
    "https://docs.scipy.org/doc/numpy/reference/arrays.datetime.html#datetime-arithmetic"
   ]
  },
  {
   "cell_type": "code",
   "execution_count": 268,
   "metadata": {},
   "outputs": [],
   "source": [
    "def get_time_diff(row):\n",
    "    creation_date = row['date_job_created']\n",
    "    \n",
    "    if not pd.isnull(row['date_declined']):\n",
    "        action_date = row['date_declined']\n",
    "    else:\n",
    "        action_date = row['date_applied']\n",
    "    time_to_action = action_date - creation_date\n",
    "\n",
    "    return (time_to_action.days * 24) + (time_to_action.seconds / 3600)"
   ]
  },
  {
   "cell_type": "code",
   "execution_count": 269,
   "metadata": {},
   "outputs": [],
   "source": [
    "df['time_to_action'] = df.apply(get_time_diff, axis=1)"
   ]
  },
  {
   "cell_type": "code",
   "execution_count": 270,
   "metadata": {
    "scrolled": false
   },
   "outputs": [
    {
     "data": {
      "text/html": [
       "<div>\n",
       "<style scoped>\n",
       "    .dataframe tbody tr th:only-of-type {\n",
       "        vertical-align: middle;\n",
       "    }\n",
       "\n",
       "    .dataframe tbody tr th {\n",
       "        vertical-align: top;\n",
       "    }\n",
       "\n",
       "    .dataframe thead th {\n",
       "        text-align: right;\n",
       "    }\n",
       "</style>\n",
       "<table border=\"1\" class=\"dataframe\">\n",
       "  <thead>\n",
       "    <tr style=\"text-align: right;\">\n",
       "      <th></th>\n",
       "      <th>date_job_created</th>\n",
       "      <th>date_applied</th>\n",
       "      <th>date_declined</th>\n",
       "      <th>time_to_action</th>\n",
       "    </tr>\n",
       "  </thead>\n",
       "  <tbody>\n",
       "    <tr>\n",
       "      <th>0</th>\n",
       "      <td>2020-02-28 10:26:07</td>\n",
       "      <td>2020-02-28 23:59:39</td>\n",
       "      <td>NaT</td>\n",
       "      <td>13.558889</td>\n",
       "    </tr>\n",
       "    <tr>\n",
       "      <th>1</th>\n",
       "      <td>2020-02-27 21:57:22</td>\n",
       "      <td>2020-02-28 23:58:27</td>\n",
       "      <td>NaT</td>\n",
       "      <td>26.018056</td>\n",
       "    </tr>\n",
       "    <tr>\n",
       "      <th>2</th>\n",
       "      <td>2020-02-27 09:10:09</td>\n",
       "      <td>2020-02-28 23:58:24</td>\n",
       "      <td>NaT</td>\n",
       "      <td>38.804167</td>\n",
       "    </tr>\n",
       "    <tr>\n",
       "      <th>3</th>\n",
       "      <td>2020-02-28 22:39:57</td>\n",
       "      <td>2020-02-28 23:58:16</td>\n",
       "      <td>NaT</td>\n",
       "      <td>1.305278</td>\n",
       "    </tr>\n",
       "    <tr>\n",
       "      <th>4</th>\n",
       "      <td>2020-02-28 22:41:17</td>\n",
       "      <td>2020-02-28 23:58:02</td>\n",
       "      <td>NaT</td>\n",
       "      <td>1.279167</td>\n",
       "    </tr>\n",
       "    <tr>\n",
       "      <th>5</th>\n",
       "      <td>2020-02-28 22:40:40</td>\n",
       "      <td>2020-02-28 23:56:33</td>\n",
       "      <td>NaT</td>\n",
       "      <td>1.264722</td>\n",
       "    </tr>\n",
       "    <tr>\n",
       "      <th>6</th>\n",
       "      <td>2020-02-28 14:09:27</td>\n",
       "      <td>2020-02-28 23:56:33</td>\n",
       "      <td>NaT</td>\n",
       "      <td>9.785000</td>\n",
       "    </tr>\n",
       "    <tr>\n",
       "      <th>7</th>\n",
       "      <td>2020-02-28 14:07:14</td>\n",
       "      <td>2020-02-28 23:56:15</td>\n",
       "      <td>NaT</td>\n",
       "      <td>9.816944</td>\n",
       "    </tr>\n",
       "    <tr>\n",
       "      <th>8</th>\n",
       "      <td>2020-02-28 08:43:50</td>\n",
       "      <td>2020-02-28 23:56:08</td>\n",
       "      <td>NaT</td>\n",
       "      <td>15.205000</td>\n",
       "    </tr>\n",
       "    <tr>\n",
       "      <th>9</th>\n",
       "      <td>2020-02-26 14:01:21</td>\n",
       "      <td>2020-02-28 23:55:51</td>\n",
       "      <td>NaT</td>\n",
       "      <td>57.908333</td>\n",
       "    </tr>\n",
       "  </tbody>\n",
       "</table>\n",
       "</div>"
      ],
      "text/plain": [
       "     date_job_created        date_applied date_declined  time_to_action\n",
       "0 2020-02-28 10:26:07 2020-02-28 23:59:39           NaT       13.558889\n",
       "1 2020-02-27 21:57:22 2020-02-28 23:58:27           NaT       26.018056\n",
       "2 2020-02-27 09:10:09 2020-02-28 23:58:24           NaT       38.804167\n",
       "3 2020-02-28 22:39:57 2020-02-28 23:58:16           NaT        1.305278\n",
       "4 2020-02-28 22:41:17 2020-02-28 23:58:02           NaT        1.279167\n",
       "5 2020-02-28 22:40:40 2020-02-28 23:56:33           NaT        1.264722\n",
       "6 2020-02-28 14:09:27 2020-02-28 23:56:33           NaT        9.785000\n",
       "7 2020-02-28 14:07:14 2020-02-28 23:56:15           NaT        9.816944\n",
       "8 2020-02-28 08:43:50 2020-02-28 23:56:08           NaT       15.205000\n",
       "9 2020-02-26 14:01:21 2020-02-28 23:55:51           NaT       57.908333"
      ]
     },
     "execution_count": 270,
     "metadata": {},
     "output_type": "execute_result"
    }
   ],
   "source": [
    "# Manually test the results:\n",
    "df[['date_job_created','date_applied','date_declined','time_to_action']].head(10)"
   ]
  },
  {
   "cell_type": "code",
   "execution_count": 271,
   "metadata": {
    "scrolled": true
   },
   "outputs": [
    {
     "data": {
      "text/plain": [
       "0"
      ]
     },
     "execution_count": 271,
     "metadata": {},
     "output_type": "execute_result"
    }
   ],
   "source": [
    "# Ensure  there are no missing  values in the new feature:\n",
    "df.time_to_action.isnull().sum()"
   ]
  },
  {
   "cell_type": "markdown",
   "metadata": {},
   "source": [
    "#### Check for outliers in our new feature:\n",
    "\n",
    "https://towardsdatascience.com/ways-to-detect-and-remove-the-outliers-404d16608dba"
   ]
  },
  {
   "cell_type": "code",
   "execution_count": 272,
   "metadata": {
    "scrolled": true
   },
   "outputs": [
    {
     "data": {
      "image/png": "[encoded data removed]",
      "text/plain": [
       "<Figure size 1080x360 with 1 Axes>"
      ]
     },
     "metadata": {},
     "output_type": "display_data"
    }
   ],
   "source": [
    "#sns.violinplot(data=, palette=\"Set3\", bw=.2, cut=1, linewidth=1)\n",
    "plt.figure(figsize=(15,5))\n",
    "sns.boxplot(x=df.time_to_action)\n",
    "plt.show()"
   ]
  },
  {
   "cell_type": "markdown",
   "metadata": {},
   "source": [
    "Looks like there are outliers."
   ]
  },
  {
   "cell_type": "markdown",
   "metadata": {},
   "source": [
    "We are going to remove all upper outliers that are 2 standard deviations away or more."
   ]
  },
  {
   "cell_type": "code",
   "execution_count": 273,
   "metadata": {},
   "outputs": [
    {
     "name": "stdout",
     "output_type": "stream",
     "text": [
      "Identified outliers: 3517\n",
      "Non-outlier observations: 97219\n"
     ]
    }
   ],
   "source": [
    "# Calculate summary statistics\n",
    "data_mean, data_std = np.mean(df.time_to_action), np.std(df.time_to_action)\n",
    "cut_off = data_std * 2\n",
    "lower, upper = data_mean - cut_off, data_mean + cut_off\n",
    "\n",
    "# Identify outliers\n",
    "outliers = [x for x in df.time_to_action if x < lower or x > upper]\n",
    "print('Identified outliers: %d' % len(outliers))\n",
    "\n",
    "# remove outliers\n",
    "outliers_removed = [x for x in df.time_to_action if x >= lower and x <= upper]\n",
    "print('Non-outlier observations: %d' % len(outliers_removed))"
   ]
  },
  {
   "cell_type": "code",
   "execution_count": 274,
   "metadata": {},
   "outputs": [],
   "source": [
    "df = df[df.time_to_action < upper]"
   ]
  },
  {
   "cell_type": "code",
   "execution_count": 275,
   "metadata": {},
   "outputs": [
    {
     "data": {
      "text/plain": [
       "(97219, 34)"
      ]
     },
     "execution_count": 275,
     "metadata": {},
     "output_type": "execute_result"
    }
   ],
   "source": [
    "df.shape"
   ]
  },
  {
   "cell_type": "markdown",
   "metadata": {},
   "source": [
    "We now have 97,219 records."
   ]
  },
  {
   "cell_type": "code",
   "execution_count": 276,
   "metadata": {},
   "outputs": [
    {
     "data": {
      "image/png": "[encoded data removed]",
      "text/plain": [
       "<Figure size 1080x360 with 1 Axes>"
      ]
     },
     "metadata": {},
     "output_type": "display_data"
    }
   ],
   "source": [
    "#sns.violinplot(data=, palette=\"Set3\", bw=.2, cut=1, linewidth=1)\n",
    "plt.figure(figsize=(15,5))\n",
    "sns.boxplot(x=df.time_to_action)\n",
    "plt.show()"
   ]
  },
  {
   "cell_type": "markdown",
   "metadata": {},
   "source": [
    "## Data Cleaning - Part 2"
   ]
  },
  {
   "cell_type": "markdown",
   "metadata": {},
   "source": [
    "#### Drop unnecessary data"
   ]
  },
  {
   "cell_type": "code",
   "execution_count": 277,
   "metadata": {},
   "outputs": [],
   "source": [
    "df.drop(columns=[\n",
    "    'entry_id',\n",
    "    'job_id',\n",
    "    'p_id',\n",
    "    'c_id',\n",
    "    'role_id',\n",
    "    'date_declined',\n",
    "    'date_applied',\n",
    "    'date_rejected',\n",
    "    'date_hired',\n",
    "    'date_job_created',\n",
    "    'job_latitude',\n",
    "    'job_longitude',\n",
    "    'worker_latitude',\n",
    "    'worker_longitude',\n",
    "], axis=1, inplace=True)"
   ]
  },
  {
   "cell_type": "markdown",
   "metadata": {},
   "source": [
    "#### Fill NA values"
   ]
  },
  {
   "cell_type": "code",
   "execution_count": 278,
   "metadata": {},
   "outputs": [],
   "source": [
    "df.wage_applied_role.fillna(0, inplace=True)\n",
    "df.wage_hired_role.fillna(0, inplace=True)\n",
    "df.job_wage.fillna(0, inplace=True)"
   ]
  },
  {
   "cell_type": "markdown",
   "metadata": {},
   "source": [
    "#### Final check for NA values"
   ]
  },
  {
   "cell_type": "code",
   "execution_count": 279,
   "metadata": {},
   "outputs": [
    {
     "data": {
      "text/plain": [
       "country_id                0\n",
       "status                    0\n",
       "job_title_length          0\n",
       "job_description_length    0\n",
       "job_time_dow_from         0\n",
       "job_time_hour_from        0\n",
       "job_time_dow_to           0\n",
       "job_time_hour_to          0\n",
       "job_wage                  0\n",
       "num_applied_role          0\n",
       "num_rejected_role         0\n",
       "num_applied_company       0\n",
       "num_rejected_company      0\n",
       "wage_applied_role         0\n",
       "wage_hired_role           0\n",
       "num_hired_role            0\n",
       "num_hired_company         0\n",
       "has_distance              0\n",
       "distance_to_job           0\n",
       "time_to_action            0\n",
       "dtype: int64"
      ]
     },
     "execution_count": 279,
     "metadata": {},
     "output_type": "execute_result"
    }
   ],
   "source": [
    "df.isnull().sum()"
   ]
  },
  {
   "cell_type": "markdown",
   "metadata": {},
   "source": [
    "#### Separate DE and UK data"
   ]
  },
  {
   "cell_type": "code",
   "execution_count": 280,
   "metadata": {},
   "outputs": [
    {
     "name": "stderr",
     "output_type": "stream",
     "text": [
      "/Users/ivan.khokhlov/anaconda3/lib/python3.7/site-packages/pandas/core/frame.py:3940: SettingWithCopyWarning: \n",
      "A value is trying to be set on a copy of a slice from a DataFrame\n",
      "\n",
      "See the caveats in the documentation: http://pandas.pydata.org/pandas-docs/stable/indexing.html#indexing-view-versus-copy\n",
      "  errors=errors)\n"
     ]
    }
   ],
   "source": [
    "df_uk = df[df.country_id == 2]\n",
    "df_de = df[df.country_id == 1]\n",
    "\n",
    "# Drop platform IDs since they are no longer necessary\n",
    "df.drop(columns=['country_id'], axis=1, inplace=True)\n",
    "df_uk.drop(columns=['country_id'], axis=1, inplace=True)\n",
    "df_de.drop(columns=['country_id'], axis=1, inplace=True)"
   ]
  },
  {
   "cell_type": "markdown",
   "metadata": {},
   "source": [
    "#### Final check before proceeding with the algorithm"
   ]
  },
  {
   "cell_type": "code",
   "execution_count": 284,
   "metadata": {},
   "outputs": [
    {
     "data": {
      "text/plain": [
       "(71263, 19)"
      ]
     },
     "execution_count": 284,
     "metadata": {},
     "output_type": "execute_result"
    }
   ],
   "source": [
    "df_de.shape"
   ]
  },
  {
   "cell_type": "code",
   "execution_count": 281,
   "metadata": {
    "scrolled": false
   },
   "outputs": [
    {
     "data": {
      "text/html": [
       "<div>\n",
       "<style scoped>\n",
       "    .dataframe tbody tr th:only-of-type {\n",
       "        vertical-align: middle;\n",
       "    }\n",
       "\n",
       "    .dataframe tbody tr th {\n",
       "        vertical-align: top;\n",
       "    }\n",
       "\n",
       "    .dataframe thead th {\n",
       "        text-align: right;\n",
       "    }\n",
       "</style>\n",
       "<table border=\"1\" class=\"dataframe\">\n",
       "  <thead>\n",
       "    <tr style=\"text-align: right;\">\n",
       "      <th></th>\n",
       "      <th>status</th>\n",
       "      <th>job_title_length</th>\n",
       "      <th>job_description_length</th>\n",
       "      <th>job_time_dow_from</th>\n",
       "      <th>job_time_hour_from</th>\n",
       "      <th>job_time_dow_to</th>\n",
       "      <th>job_time_hour_to</th>\n",
       "      <th>job_wage</th>\n",
       "      <th>num_applied_role</th>\n",
       "      <th>num_rejected_role</th>\n",
       "      <th>num_applied_company</th>\n",
       "      <th>num_rejected_company</th>\n",
       "      <th>wage_applied_role</th>\n",
       "      <th>wage_hired_role</th>\n",
       "      <th>num_hired_role</th>\n",
       "      <th>num_hired_company</th>\n",
       "      <th>has_distance</th>\n",
       "      <th>distance_to_job</th>\n",
       "      <th>time_to_action</th>\n",
       "    </tr>\n",
       "  </thead>\n",
       "  <tbody>\n",
       "    <tr>\n",
       "      <th>0</th>\n",
       "      <td>1</td>\n",
       "      <td>49</td>\n",
       "      <td>542</td>\n",
       "      <td>1</td>\n",
       "      <td>11</td>\n",
       "      <td>1</td>\n",
       "      <td>16</td>\n",
       "      <td>25.00</td>\n",
       "      <td>7</td>\n",
       "      <td>0</td>\n",
       "      <td>0</td>\n",
       "      <td>0</td>\n",
       "      <td>25.068571</td>\n",
       "      <td>0.0</td>\n",
       "      <td>0</td>\n",
       "      <td>0</td>\n",
       "      <td>1</td>\n",
       "      <td>17.620530</td>\n",
       "      <td>13.558889</td>\n",
       "    </tr>\n",
       "    <tr>\n",
       "      <th>1</th>\n",
       "      <td>1</td>\n",
       "      <td>18</td>\n",
       "      <td>47</td>\n",
       "      <td>3</td>\n",
       "      <td>19</td>\n",
       "      <td>3</td>\n",
       "      <td>23</td>\n",
       "      <td>23.32</td>\n",
       "      <td>6</td>\n",
       "      <td>0</td>\n",
       "      <td>0</td>\n",
       "      <td>0</td>\n",
       "      <td>25.360000</td>\n",
       "      <td>0.0</td>\n",
       "      <td>0</td>\n",
       "      <td>0</td>\n",
       "      <td>1</td>\n",
       "      <td>14.951225</td>\n",
       "      <td>26.018056</td>\n",
       "    </tr>\n",
       "    <tr>\n",
       "      <th>2</th>\n",
       "      <td>1</td>\n",
       "      <td>40</td>\n",
       "      <td>1298</td>\n",
       "      <td>7</td>\n",
       "      <td>9</td>\n",
       "      <td>7</td>\n",
       "      <td>18</td>\n",
       "      <td>25.50</td>\n",
       "      <td>2</td>\n",
       "      <td>0</td>\n",
       "      <td>0</td>\n",
       "      <td>0</td>\n",
       "      <td>25.450000</td>\n",
       "      <td>0.0</td>\n",
       "      <td>0</td>\n",
       "      <td>0</td>\n",
       "      <td>1</td>\n",
       "      <td>7.411042</td>\n",
       "      <td>38.804167</td>\n",
       "    </tr>\n",
       "    <tr>\n",
       "      <th>3</th>\n",
       "      <td>1</td>\n",
       "      <td>18</td>\n",
       "      <td>425</td>\n",
       "      <td>6</td>\n",
       "      <td>11</td>\n",
       "      <td>6</td>\n",
       "      <td>12</td>\n",
       "      <td>27.00</td>\n",
       "      <td>4</td>\n",
       "      <td>2</td>\n",
       "      <td>0</td>\n",
       "      <td>0</td>\n",
       "      <td>27.000000</td>\n",
       "      <td>0.0</td>\n",
       "      <td>0</td>\n",
       "      <td>0</td>\n",
       "      <td>1</td>\n",
       "      <td>3.021688</td>\n",
       "      <td>1.305278</td>\n",
       "    </tr>\n",
       "    <tr>\n",
       "      <th>4</th>\n",
       "      <td>1</td>\n",
       "      <td>18</td>\n",
       "      <td>425</td>\n",
       "      <td>6</td>\n",
       "      <td>11</td>\n",
       "      <td>6</td>\n",
       "      <td>12</td>\n",
       "      <td>27.00</td>\n",
       "      <td>2</td>\n",
       "      <td>0</td>\n",
       "      <td>2</td>\n",
       "      <td>0</td>\n",
       "      <td>27.000000</td>\n",
       "      <td>0.0</td>\n",
       "      <td>0</td>\n",
       "      <td>0</td>\n",
       "      <td>1</td>\n",
       "      <td>7.380269</td>\n",
       "      <td>1.279167</td>\n",
       "    </tr>\n",
       "  </tbody>\n",
       "</table>\n",
       "</div>"
      ],
      "text/plain": [
       "   status  job_title_length  job_description_length  job_time_dow_from  \\\n",
       "0       1                49                     542                  1   \n",
       "1       1                18                      47                  3   \n",
       "2       1                40                    1298                  7   \n",
       "3       1                18                     425                  6   \n",
       "4       1                18                     425                  6   \n",
       "\n",
       "   job_time_hour_from  job_time_dow_to  job_time_hour_to  job_wage  \\\n",
       "0                  11                1                16     25.00   \n",
       "1                  19                3                23     23.32   \n",
       "2                   9                7                18     25.50   \n",
       "3                  11                6                12     27.00   \n",
       "4                  11                6                12     27.00   \n",
       "\n",
       "   num_applied_role  num_rejected_role  num_applied_company  \\\n",
       "0                 7                  0                    0   \n",
       "1                 6                  0                    0   \n",
       "2                 2                  0                    0   \n",
       "3                 4                  2                    0   \n",
       "4                 2                  0                    2   \n",
       "\n",
       "   num_rejected_company  wage_applied_role  wage_hired_role  num_hired_role  \\\n",
       "0                     0          25.068571              0.0               0   \n",
       "1                     0          25.360000              0.0               0   \n",
       "2                     0          25.450000              0.0               0   \n",
       "3                     0          27.000000              0.0               0   \n",
       "4                     0          27.000000              0.0               0   \n",
       "\n",
       "   num_hired_company  has_distance  distance_to_job  time_to_action  \n",
       "0                  0             1        17.620530       13.558889  \n",
       "1                  0             1        14.951225       26.018056  \n",
       "2                  0             1         7.411042       38.804167  \n",
       "3                  0             1         3.021688        1.305278  \n",
       "4                  0             1         7.380269        1.279167  "
      ]
     },
     "execution_count": 281,
     "metadata": {},
     "output_type": "execute_result"
    }
   ],
   "source": [
    "df_de.head()"
   ]
  },
  {
   "cell_type": "code",
   "execution_count": 285,
   "metadata": {},
   "outputs": [
    {
     "data": {
      "text/plain": [
       "(25942, 19)"
      ]
     },
     "execution_count": 285,
     "metadata": {},
     "output_type": "execute_result"
    }
   ],
   "source": [
    "df_uk.shape"
   ]
  },
  {
   "cell_type": "code",
   "execution_count": 282,
   "metadata": {
    "scrolled": true
   },
   "outputs": [
    {
     "data": {
      "text/html": [
       "<div>\n",
       "<style scoped>\n",
       "    .dataframe tbody tr th:only-of-type {\n",
       "        vertical-align: middle;\n",
       "    }\n",
       "\n",
       "    .dataframe tbody tr th {\n",
       "        vertical-align: top;\n",
       "    }\n",
       "\n",
       "    .dataframe thead th {\n",
       "        text-align: right;\n",
       "    }\n",
       "</style>\n",
       "<table border=\"1\" class=\"dataframe\">\n",
       "  <thead>\n",
       "    <tr style=\"text-align: right;\">\n",
       "      <th></th>\n",
       "      <th>status</th>\n",
       "      <th>job_title_length</th>\n",
       "      <th>job_description_length</th>\n",
       "      <th>job_time_dow_from</th>\n",
       "      <th>job_time_hour_from</th>\n",
       "      <th>job_time_dow_to</th>\n",
       "      <th>job_time_hour_to</th>\n",
       "      <th>job_wage</th>\n",
       "      <th>num_applied_role</th>\n",
       "      <th>num_rejected_role</th>\n",
       "      <th>num_applied_company</th>\n",
       "      <th>num_rejected_company</th>\n",
       "      <th>wage_applied_role</th>\n",
       "      <th>wage_hired_role</th>\n",
       "      <th>num_hired_role</th>\n",
       "      <th>num_hired_company</th>\n",
       "      <th>has_distance</th>\n",
       "      <th>distance_to_job</th>\n",
       "      <th>time_to_action</th>\n",
       "    </tr>\n",
       "  </thead>\n",
       "  <tbody>\n",
       "    <tr>\n",
       "      <th>22</th>\n",
       "      <td>1</td>\n",
       "      <td>48</td>\n",
       "      <td>167</td>\n",
       "      <td>2</td>\n",
       "      <td>18</td>\n",
       "      <td>6</td>\n",
       "      <td>23</td>\n",
       "      <td>9.20</td>\n",
       "      <td>4</td>\n",
       "      <td>0</td>\n",
       "      <td>0</td>\n",
       "      <td>0</td>\n",
       "      <td>8.9275</td>\n",
       "      <td>0.0</td>\n",
       "      <td>0</td>\n",
       "      <td>0</td>\n",
       "      <td>1</td>\n",
       "      <td>6.015908</td>\n",
       "      <td>8.647500</td>\n",
       "    </tr>\n",
       "    <tr>\n",
       "      <th>24</th>\n",
       "      <td>1</td>\n",
       "      <td>33</td>\n",
       "      <td>803</td>\n",
       "      <td>1</td>\n",
       "      <td>10</td>\n",
       "      <td>1</td>\n",
       "      <td>14</td>\n",
       "      <td>10.00</td>\n",
       "      <td>7</td>\n",
       "      <td>2</td>\n",
       "      <td>3</td>\n",
       "      <td>1</td>\n",
       "      <td>8.8400</td>\n",
       "      <td>0.0</td>\n",
       "      <td>2</td>\n",
       "      <td>0</td>\n",
       "      <td>1</td>\n",
       "      <td>0.618073</td>\n",
       "      <td>106.901667</td>\n",
       "    </tr>\n",
       "    <tr>\n",
       "      <th>32</th>\n",
       "      <td>1</td>\n",
       "      <td>33</td>\n",
       "      <td>803</td>\n",
       "      <td>1</td>\n",
       "      <td>10</td>\n",
       "      <td>1</td>\n",
       "      <td>14</td>\n",
       "      <td>10.00</td>\n",
       "      <td>3</td>\n",
       "      <td>0</td>\n",
       "      <td>0</td>\n",
       "      <td>0</td>\n",
       "      <td>8.5700</td>\n",
       "      <td>0.0</td>\n",
       "      <td>0</td>\n",
       "      <td>0</td>\n",
       "      <td>1</td>\n",
       "      <td>3.030629</td>\n",
       "      <td>106.837500</td>\n",
       "    </tr>\n",
       "    <tr>\n",
       "      <th>36</th>\n",
       "      <td>1</td>\n",
       "      <td>50</td>\n",
       "      <td>84</td>\n",
       "      <td>7</td>\n",
       "      <td>19</td>\n",
       "      <td>1</td>\n",
       "      <td>5</td>\n",
       "      <td>12.00</td>\n",
       "      <td>0</td>\n",
       "      <td>0</td>\n",
       "      <td>0</td>\n",
       "      <td>0</td>\n",
       "      <td>0.0000</td>\n",
       "      <td>0.0</td>\n",
       "      <td>0</td>\n",
       "      <td>0</td>\n",
       "      <td>1</td>\n",
       "      <td>3.876036</td>\n",
       "      <td>2.579444</td>\n",
       "    </tr>\n",
       "    <tr>\n",
       "      <th>37</th>\n",
       "      <td>1</td>\n",
       "      <td>62</td>\n",
       "      <td>360</td>\n",
       "      <td>7</td>\n",
       "      <td>18</td>\n",
       "      <td>1</td>\n",
       "      <td>0</td>\n",
       "      <td>8.21</td>\n",
       "      <td>2</td>\n",
       "      <td>0</td>\n",
       "      <td>0</td>\n",
       "      <td>0</td>\n",
       "      <td>8.7500</td>\n",
       "      <td>0.0</td>\n",
       "      <td>0</td>\n",
       "      <td>0</td>\n",
       "      <td>1</td>\n",
       "      <td>4.265440</td>\n",
       "      <td>5.923333</td>\n",
       "    </tr>\n",
       "  </tbody>\n",
       "</table>\n",
       "</div>"
      ],
      "text/plain": [
       "    status  job_title_length  job_description_length  job_time_dow_from  \\\n",
       "22       1                48                     167                  2   \n",
       "24       1                33                     803                  1   \n",
       "32       1                33                     803                  1   \n",
       "36       1                50                      84                  7   \n",
       "37       1                62                     360                  7   \n",
       "\n",
       "    job_time_hour_from  job_time_dow_to  job_time_hour_to  job_wage  \\\n",
       "22                  18                6                23      9.20   \n",
       "24                  10                1                14     10.00   \n",
       "32                  10                1                14     10.00   \n",
       "36                  19                1                 5     12.00   \n",
       "37                  18                1                 0      8.21   \n",
       "\n",
       "    num_applied_role  num_rejected_role  num_applied_company  \\\n",
       "22                 4                  0                    0   \n",
       "24                 7                  2                    3   \n",
       "32                 3                  0                    0   \n",
       "36                 0                  0                    0   \n",
       "37                 2                  0                    0   \n",
       "\n",
       "    num_rejected_company  wage_applied_role  wage_hired_role  num_hired_role  \\\n",
       "22                     0             8.9275              0.0               0   \n",
       "24                     1             8.8400              0.0               2   \n",
       "32                     0             8.5700              0.0               0   \n",
       "36                     0             0.0000              0.0               0   \n",
       "37                     0             8.7500              0.0               0   \n",
       "\n",
       "    num_hired_company  has_distance  distance_to_job  time_to_action  \n",
       "22                  0             1         6.015908        8.647500  \n",
       "24                  0             1         0.618073      106.901667  \n",
       "32                  0             1         3.030629      106.837500  \n",
       "36                  0             1         3.876036        2.579444  \n",
       "37                  0             1         4.265440        5.923333  "
      ]
     },
     "execution_count": 282,
     "metadata": {},
     "output_type": "execute_result"
    }
   ],
   "source": [
    "df_uk.head()"
   ]
  },
  {
   "cell_type": "markdown",
   "metadata": {},
   "source": [
    "Save all the dataframes into CSVs:"
   ]
  },
  {
   "cell_type": "code",
   "execution_count": 286,
   "metadata": {},
   "outputs": [],
   "source": [
    "df.to_csv('full_abt_eds.csv', index=None)\n",
    "df_uk.to_csv('uk_abt_eds.csv', index=None)\n",
    "df_de.to_csv('de_abt_eds.csv', index=None)"
   ]
  },
  {
   "cell_type": "markdown",
   "metadata": {},
   "source": [
    "## Further Data Analysis - UK"
   ]
  },
  {
   "cell_type": "markdown",
   "metadata": {},
   "source": [
    "Since the client is primarily interested in building a model for their UK operations, we'll focus on that."
   ]
  },
  {
   "cell_type": "code",
   "execution_count": 287,
   "metadata": {},
   "outputs": [],
   "source": [
    "df_uk = pd.read_csv('uk_abt_eds.csv')"
   ]
  },
  {
   "cell_type": "code",
   "execution_count": 289,
   "metadata": {},
   "outputs": [],
   "source": [
    "correlations = df_uk.corr()"
   ]
  },
  {
   "cell_type": "code",
   "execution_count": 290,
   "metadata": {},
   "outputs": [
    {
     "data": {
      "image/png": "[encoded data removed]",
      "text/plain": [
       "<Figure size 864x864 with 2 Axes>"
      ]
     },
     "metadata": {},
     "output_type": "display_data"
    }
   ],
   "source": [
    "# Change the figure size\n",
    "plt.figure(figsize=(12,12))\n",
    "\n",
    "# Plot heatmap of correlations\n",
    "sns.heatmap(correlations*100, cmap='RdBu_r', annot_kws={\"size\": 12}, annot=True,  fmt='.0f')\n",
    "plt.show()"
   ]
  },
  {
   "cell_type": "markdown",
   "metadata": {},
   "source": [
    "## Algorithm Selection"
   ]
  },
  {
   "cell_type": "markdown",
   "metadata": {},
   "source": [
    "#### Choosing Algorithms"
   ]
  },
  {
   "cell_type": "markdown",
   "metadata": {},
   "source": [
    "This is a classification problem.\n",
    "\n",
    "The end model should be able to provide a probability that a person will apply for a job.\n",
    "\n",
    "This probability will be used to sort jobs for the end users in a relevant way.\n",
    "\n",
    "Therefore, the following algorithms will be used:\n",
    "* LogisticRegression\n",
    "* RandomForesstClassifier\n",
    "* GradientBoostinClassifier\n",
    "\n",
    "In addition, another classification algorithm will be tested:\n",
    "* XGBoost (https://xgboost.readthedocs.io/en/latest/#)"
   ]
  },
  {
   "cell_type": "markdown",
   "metadata": {},
   "source": [
    "#### Choosing Hyperparameters\n",
    "\n",
    "__LogisticRegression__\n",
    "* C\n",
    "\n",
    "__RandomForestClassifier__\n",
    "* n_estimators\n",
    "* max_features\n",
    "* min_samples_leaf\n",
    "* max_samples_split\n",
    "* max_depth\n",
    "\n",
    "__GradientBoostingClassifier__\n",
    "* n_estimators\n",
    "* learning_rate\n",
    "* max_depth\n",
    "* min_samples_split\n",
    "\n",
    "__XGBoost__\n",
    "* n_estimators\n",
    "* learning_rate\n",
    "\n",
    "In a section below we'll explore which specific values to chose for each hyperparameter."
   ]
  },
  {
   "cell_type": "markdown",
   "metadata": {},
   "source": [
    "## Model Training"
   ]
  },
  {
   "cell_type": "markdown",
   "metadata": {},
   "source": [
    "### Importing the necessary libraries"
   ]
  },
  {
   "cell_type": "code",
   "execution_count": 310,
   "metadata": {},
   "outputs": [],
   "source": [
    "from sklearn.preprocessing import StandardScaler\n",
    "from sklearn.model_selection import train_test_split\n",
    "from sklearn.pipeline import Pipeline\n",
    "from sklearn.pipeline import make_pipeline\n",
    "from sklearn.model_selection import GridSearchCV, RandomizedSearchCV\n",
    "\n",
    "from sklearn.linear_model import LogisticRegression\n",
    "from sklearn.ensemble import RandomForestClassifier\n",
    "from sklearn.ensemble import GradientBoostingClassifier\n",
    "import xgboost as xgb\n",
    "\n",
    "from sklearn.metrics import roc_auc_score, roc_curve, auc\n",
    "from sklearn.metrics import confusion_matrix\n",
    "from sklearn.metrics import accuracy_score\n",
    "from sklearn.metrics import precision_score\n",
    "from sklearn.metrics import recall_score\n",
    "from sklearn.metrics import f1_score\n",
    "\n",
    "from matplotlib.legend_handler import HandlerLine2D"
   ]
  },
  {
   "cell_type": "markdown",
   "metadata": {},
   "source": [
    "### Split the dataset into training and testing"
   ]
  },
  {
   "cell_type": "markdown",
   "metadata": {},
   "source": [
    "Remember that we need to stratify when splitting the data since we have slightly a slightly imbalanced class."
   ]
  },
  {
   "cell_type": "markdown",
   "metadata": {},
   "source": [
    "#### UK"
   ]
  },
  {
   "cell_type": "code",
   "execution_count": 245,
   "metadata": {},
   "outputs": [
    {
     "name": "stdout",
     "output_type": "stream",
     "text": [
      "20753 5189 20753 5189\n"
     ]
    }
   ],
   "source": [
    "df_uk = pd.read_csv('uk_abt_eds.csv')\n",
    "y = df_uk.status\n",
    "x = df_uk.drop('status', axis=1)\n",
    "\n",
    "x_train, x_test, y_train, y_test = train_test_split(x, y, test_size=0.2, stratify=df_uk.status)\n",
    "print(len(x_train), len(x_test), len(y_train), len(y_test))"
   ]
  },
  {
   "cell_type": "code",
   "execution_count": 292,
   "metadata": {},
   "outputs": [
    {
     "data": {
      "text/html": [
       "<div>\n",
       "<style scoped>\n",
       "    .dataframe tbody tr th:only-of-type {\n",
       "        vertical-align: middle;\n",
       "    }\n",
       "\n",
       "    .dataframe tbody tr th {\n",
       "        vertical-align: top;\n",
       "    }\n",
       "\n",
       "    .dataframe thead th {\n",
       "        text-align: right;\n",
       "    }\n",
       "</style>\n",
       "<table border=\"1\" class=\"dataframe\">\n",
       "  <thead>\n",
       "    <tr style=\"text-align: right;\">\n",
       "      <th></th>\n",
       "      <th>job_title_length</th>\n",
       "      <th>job_description_length</th>\n",
       "      <th>job_time_dow_from</th>\n",
       "      <th>job_time_hour_from</th>\n",
       "      <th>job_time_dow_to</th>\n",
       "      <th>job_time_hour_to</th>\n",
       "      <th>job_wage</th>\n",
       "      <th>num_applied_role</th>\n",
       "      <th>num_rejected_role</th>\n",
       "      <th>num_applied_company</th>\n",
       "      <th>num_rejected_company</th>\n",
       "      <th>wage_applied_role</th>\n",
       "      <th>wage_hired_role</th>\n",
       "      <th>num_hired_role</th>\n",
       "      <th>num_hired_company</th>\n",
       "      <th>has_distance</th>\n",
       "      <th>distance_to_job</th>\n",
       "      <th>time_to_action</th>\n",
       "    </tr>\n",
       "    <tr>\n",
       "      <th>status</th>\n",
       "      <th></th>\n",
       "      <th></th>\n",
       "      <th></th>\n",
       "      <th></th>\n",
       "      <th></th>\n",
       "      <th></th>\n",
       "      <th></th>\n",
       "      <th></th>\n",
       "      <th></th>\n",
       "      <th></th>\n",
       "      <th></th>\n",
       "      <th></th>\n",
       "      <th></th>\n",
       "      <th></th>\n",
       "      <th></th>\n",
       "      <th></th>\n",
       "      <th></th>\n",
       "      <th></th>\n",
       "    </tr>\n",
       "  </thead>\n",
       "  <tbody>\n",
       "    <tr>\n",
       "      <th>0</th>\n",
       "      <td>11746</td>\n",
       "      <td>11746</td>\n",
       "      <td>11746</td>\n",
       "      <td>11746</td>\n",
       "      <td>11746</td>\n",
       "      <td>11746</td>\n",
       "      <td>11746</td>\n",
       "      <td>11746</td>\n",
       "      <td>11746</td>\n",
       "      <td>11746</td>\n",
       "      <td>11746</td>\n",
       "      <td>11746</td>\n",
       "      <td>11746</td>\n",
       "      <td>11746</td>\n",
       "      <td>11746</td>\n",
       "      <td>11746</td>\n",
       "      <td>11746</td>\n",
       "      <td>11746</td>\n",
       "    </tr>\n",
       "    <tr>\n",
       "      <th>1</th>\n",
       "      <td>14196</td>\n",
       "      <td>14196</td>\n",
       "      <td>14196</td>\n",
       "      <td>14196</td>\n",
       "      <td>14196</td>\n",
       "      <td>14196</td>\n",
       "      <td>14196</td>\n",
       "      <td>14196</td>\n",
       "      <td>14196</td>\n",
       "      <td>14196</td>\n",
       "      <td>14196</td>\n",
       "      <td>14196</td>\n",
       "      <td>14196</td>\n",
       "      <td>14196</td>\n",
       "      <td>14196</td>\n",
       "      <td>14196</td>\n",
       "      <td>14196</td>\n",
       "      <td>14196</td>\n",
       "    </tr>\n",
       "  </tbody>\n",
       "</table>\n",
       "</div>"
      ],
      "text/plain": [
       "        job_title_length  job_description_length  job_time_dow_from  \\\n",
       "status                                                                \n",
       "0                  11746                   11746              11746   \n",
       "1                  14196                   14196              14196   \n",
       "\n",
       "        job_time_hour_from  job_time_dow_to  job_time_hour_to  job_wage  \\\n",
       "status                                                                    \n",
       "0                    11746            11746             11746     11746   \n",
       "1                    14196            14196             14196     14196   \n",
       "\n",
       "        num_applied_role  num_rejected_role  num_applied_company  \\\n",
       "status                                                             \n",
       "0                  11746              11746                11746   \n",
       "1                  14196              14196                14196   \n",
       "\n",
       "        num_rejected_company  wage_applied_role  wage_hired_role  \\\n",
       "status                                                             \n",
       "0                      11746              11746            11746   \n",
       "1                      14196              14196            14196   \n",
       "\n",
       "        num_hired_role  num_hired_company  has_distance  distance_to_job  \\\n",
       "status                                                                     \n",
       "0                11746              11746         11746            11746   \n",
       "1                14196              14196         14196            14196   \n",
       "\n",
       "        time_to_action  \n",
       "status                  \n",
       "0                11746  \n",
       "1                14196  "
      ]
     },
     "execution_count": 292,
     "metadata": {},
     "output_type": "execute_result"
    }
   ],
   "source": [
    "df_uk.groupby(['status']).count()"
   ]
  },
  {
   "cell_type": "markdown",
   "metadata": {},
   "source": [
    "In the next section we'll decide which range of values to try for each hyperparameter for each algorithm."
   ]
  },
  {
   "cell_type": "markdown",
   "metadata": {},
   "source": [
    "## Helper functions for hyperparameters"
   ]
  },
  {
   "cell_type": "code",
   "execution_count": 293,
   "metadata": {},
   "outputs": [],
   "source": [
    "# Function to plot a graph for the AUC score for each hyperparameter\n",
    "\n",
    "def hyperparam_chart(param_name, param_values, train_results, test_results):\n",
    "    line1, = plt.plot(param_values, train_results, 'b', label='Train AUC')\n",
    "    line2, = plt.plot(param_values, test_results, 'r', label='Test AUC')\n",
    "    plt.legend(handler_map={line1: HandlerLine2D(numpoints=2)})\n",
    "    plt.ylabel('AUC score')\n",
    "    plt.xlabel(param_name)\n",
    "    plt.show()"
   ]
  },
  {
   "cell_type": "markdown",
   "metadata": {},
   "source": [
    "## Chosing Hyperparameter Values"
   ]
  },
  {
   "cell_type": "markdown",
   "metadata": {},
   "source": [
    "### LogisticRegression (L1 penalty)"
   ]
  },
  {
   "cell_type": "markdown",
   "metadata": {},
   "source": [
    "#### Choosing input for C hyperparameter"
   ]
  },
  {
   "cell_type": "code",
   "execution_count": 119,
   "metadata": {},
   "outputs": [
    {
     "data": {
      "image/png": "[encoded data removed]",
      "text/plain": [
       "<Figure size 432x288 with 1 Axes>"
      ]
     },
     "metadata": {},
     "output_type": "display_data"
    }
   ],
   "source": [
    "param_values = np.linspace(0.001, 5, 20, endpoint=True)\n",
    "train_results = []\n",
    "test_results = []\n",
    "\n",
    "for C_value in param_values:\n",
    "    model = LogisticRegression(C=C_value, penalty='l1', solver='liblinear')\n",
    "    model.fit(x_train, y_train)\n",
    "\n",
    "    train_pred = model.predict(x_train)\n",
    "    false_positive_rate, true_positive_rate, thresholds = roc_curve(y_train, train_pred)\n",
    "\n",
    "    roc_auc = auc(false_positive_rate, true_positive_rate)\n",
    "    train_results.append(roc_auc)\n",
    "\n",
    "    y_pred = model.predict(x_test)\n",
    "    false_positive_rate, true_positive_rate, thresholds = roc_curve(y_test, y_pred)\n",
    "\n",
    "    roc_auc = auc(false_positive_rate, true_positive_rate)\n",
    "    test_results.append(roc_auc)\n",
    "    \n",
    "hyperparam_chart('C', param_values, train_results, test_results)"
   ]
  },
  {
   "cell_type": "markdown",
   "metadata": {},
   "source": [
    "### GradientBoostingClassifier"
   ]
  },
  {
   "cell_type": "markdown",
   "metadata": {},
   "source": [
    "#### Choosing input for n_estimators hyperparameter"
   ]
  },
  {
   "cell_type": "markdown",
   "metadata": {},
   "source": [
    "n_estimators represents the number of trees in the forest. Usually the higher the number of trees the better to learn the data. However, adding a lot of trees can slow down the training process considerably, therefore we do a parameter search to find the sweet spot."
   ]
  },
  {
   "cell_type": "code",
   "execution_count": 121,
   "metadata": {},
   "outputs": [
    {
     "data": {
      "image/png": "[encoded data removed]",
      "text/plain": [
       "<Figure size 432x288 with 1 Axes>"
      ]
     },
     "metadata": {},
     "output_type": "display_data"
    }
   ],
   "source": [
    "param_values = [1, 2, 4, 8, 16, 32, 64, 100, 200, 400, 600, 800, 1500]\n",
    "train_results = []\n",
    "test_results = []\n",
    "\n",
    "for estimator in param_values:\n",
    "    model = GradientBoostingClassifier(n_estimators=estimator)\n",
    "    model.fit(x_train, y_train)\n",
    "\n",
    "    train_pred = model.predict(x_train)\n",
    "    false_positive_rate, true_positive_rate, thresholds = roc_curve(y_train, train_pred)\n",
    "\n",
    "    roc_auc = auc(false_positive_rate, true_positive_rate)\n",
    "    train_results.append(roc_auc)\n",
    "\n",
    "    y_pred = model.predict(x_test)\n",
    "    false_positive_rate, true_positive_rate, thresholds = roc_curve(y_test, y_pred)\n",
    "\n",
    "    roc_auc = auc(false_positive_rate, true_positive_rate)\n",
    "    test_results.append(roc_auc)\n",
    "    \n",
    "hyperparam_chart('n_estimators', param_values, train_results, test_results)"
   ]
  },
  {
   "cell_type": "markdown",
   "metadata": {},
   "source": [
    "#### Choosing input for learning_rate hyperparameter"
   ]
  },
  {
   "cell_type": "markdown",
   "metadata": {},
   "source": [
    "Learning rate shrinks the contribution of each tree by learning_rate."
   ]
  },
  {
   "cell_type": "code",
   "execution_count": 122,
   "metadata": {},
   "outputs": [
    {
     "data": {
      "image/png": "[encoded data removed]",
      "text/plain": [
       "<Figure size 432x288 with 1 Axes>"
      ]
     },
     "metadata": {},
     "output_type": "display_data"
    }
   ],
   "source": [
    "param_values = [1, 0.5, 0.25, 0.1, 0.05, 0.01]\n",
    "train_results = []\n",
    "test_results = []\n",
    "\n",
    "for eta in param_values:\n",
    "    model = GradientBoostingClassifier(learning_rate=eta)\n",
    "    model.fit(x_train, y_train)\n",
    "\n",
    "    train_pred = model.predict(x_train)\n",
    "    false_positive_rate, true_positive_rate, thresholds = roc_curve(y_train, train_pred)\n",
    "\n",
    "    roc_auc = auc(false_positive_rate, true_positive_rate)\n",
    "    train_results.append(roc_auc)\n",
    "\n",
    "    y_pred = model.predict(x_test)\n",
    "    false_positive_rate, true_positive_rate, thresholds = roc_curve(y_test, y_pred)\n",
    "\n",
    "    roc_auc = auc(false_positive_rate, true_positive_rate)\n",
    "    test_results.append(roc_auc)\n",
    "    \n",
    "hyperparam_chart('learning_rate', param_values, train_results, test_results)"
   ]
  },
  {
   "cell_type": "markdown",
   "metadata": {},
   "source": [
    "#### Choosing input for max_depth hyperparameter"
   ]
  },
  {
   "cell_type": "markdown",
   "metadata": {},
   "source": [
    "This indicates how deep the built tree can be. The deeper the tree, the more splits it has and it captures more information about how the data. We fit a decision tree with depths ranging from 1 to 32 and plot the training and test errors."
   ]
  },
  {
   "cell_type": "code",
   "execution_count": 123,
   "metadata": {},
   "outputs": [
    {
     "data": {
      "image/png": "[encoded data removed]",
      "text/plain": [
       "<Figure size 432x288 with 1 Axes>"
      ]
     },
     "metadata": {},
     "output_type": "display_data"
    }
   ],
   "source": [
    "param_values = np.linspace(1, 32, 32, endpoint=True)\n",
    "train_results = []\n",
    "test_results = []\n",
    "\n",
    "for max_depth in param_values:\n",
    "    model = GradientBoostingClassifier(max_depth=max_depth)\n",
    "    model.fit(x_train, y_train)\n",
    "\n",
    "    train_pred = model.predict(x_train)\n",
    "    false_positive_rate, true_positive_rate, thresholds = roc_curve(y_train, train_pred)\n",
    "\n",
    "    roc_auc = auc(false_positive_rate, true_positive_rate)\n",
    "    train_results.append(roc_auc)\n",
    "\n",
    "    y_pred = model.predict(x_test)\n",
    "    false_positive_rate, true_positive_rate, thresholds = roc_curve(y_test, y_pred)\n",
    "\n",
    "    roc_auc = auc(false_positive_rate, true_positive_rate)\n",
    "    test_results.append(roc_auc)\n",
    "    \n",
    "hyperparam_chart('max_depth', param_values, train_results, test_results)"
   ]
  },
  {
   "cell_type": "markdown",
   "metadata": {},
   "source": [
    "#### Choosing input for min_samples_split hyperparameter"
   ]
  },
  {
   "cell_type": "markdown",
   "metadata": {},
   "source": [
    "This represents the minimum number of samples required to split an internal node. This can vary between considering at least one sample at each node to considering all of the samples at each node. When we increase this parameter, the tree becomes more constrained as it has to consider more samples at each node. Here we will vary the parameter from 10% to 100% of the samples"
   ]
  },
  {
   "cell_type": "code",
   "execution_count": 126,
   "metadata": {},
   "outputs": [
    {
     "data": {
      "image/png": "[encoded data removed]",
      "text/plain": [
       "<Figure size 432x288 with 1 Axes>"
      ]
     },
     "metadata": {},
     "output_type": "display_data"
    }
   ],
   "source": [
    "param_values = np.linspace(0.01, 1, 20, endpoint=True)\n",
    "train_results = []\n",
    "test_results = []\n",
    "\n",
    "for min_samples_split in param_values:\n",
    "    model = GradientBoostingClassifier(min_samples_split=min_samples_split)\n",
    "    model.fit(x_train, y_train)\n",
    "\n",
    "    train_pred = model.predict(x_train)\n",
    "    false_positive_rate, true_positive_rate, thresholds = roc_curve(y_train, train_pred)\n",
    "\n",
    "    roc_auc = auc(false_positive_rate, true_positive_rate)\n",
    "    train_results.append(roc_auc)\n",
    "\n",
    "    y_pred = model.predict(x_test)\n",
    "    false_positive_rate, true_positive_rate, thresholds = roc_curve(y_test, y_pred)\n",
    "\n",
    "    roc_auc = auc(false_positive_rate, true_positive_rate)\n",
    "    test_results.append(roc_auc)\n",
    "    \n",
    "hyperparam_chart('min_samples_split', param_values, train_results, test_results)"
   ]
  },
  {
   "cell_type": "markdown",
   "metadata": {},
   "source": [
    "#### Choosing input for min_samples_leaf hyperparameter"
   ]
  },
  {
   "cell_type": "markdown",
   "metadata": {},
   "source": [
    "This is the minimum number of samples required to be at a leaf node. This is similar to min_samples_splits, however, this describe the minimum number of samples at the leafs."
   ]
  },
  {
   "cell_type": "code",
   "execution_count": 127,
   "metadata": {},
   "outputs": [
    {
     "data": {
      "image/png": "[encoded data removed]",
      "text/plain": [
       "<Figure size 432x288 with 1 Axes>"
      ]
     },
     "metadata": {},
     "output_type": "display_data"
    }
   ],
   "source": [
    "param_values = np.linspace(0.1, 0.5, 5, endpoint=True)\n",
    "train_results = []\n",
    "test_results = []\n",
    "\n",
    "for min_samples_leaf in param_values:\n",
    "    model = GradientBoostingClassifier(min_samples_leaf=min_samples_leaf)\n",
    "    model.fit(x_train, y_train)\n",
    "\n",
    "    train_pred = model.predict(x_train)\n",
    "    false_positive_rate, true_positive_rate, thresholds = roc_curve(y_train, train_pred)\n",
    "\n",
    "    roc_auc = auc(false_positive_rate, true_positive_rate)\n",
    "    train_results.append(roc_auc)\n",
    "\n",
    "    y_pred = model.predict(x_test)\n",
    "    false_positive_rate, true_positive_rate, thresholds = roc_curve(y_test, y_pred)\n",
    "\n",
    "    roc_auc = auc(false_positive_rate, true_positive_rate)\n",
    "    test_results.append(roc_auc)\n",
    "\n",
    "hyperparam_chart('min_samples_leafs', param_values, train_results, test_results)"
   ]
  },
  {
   "cell_type": "markdown",
   "metadata": {},
   "source": [
    "#### Choosing input for max_features hyperparameter"
   ]
  },
  {
   "cell_type": "markdown",
   "metadata": {},
   "source": [
    "max_features represents the number of features to consider when looking for the best split."
   ]
  },
  {
   "cell_type": "code",
   "execution_count": 128,
   "metadata": {
    "scrolled": false
   },
   "outputs": [
    {
     "data": {
      "image/png": "[encoded data removed]",
      "text/plain": [
       "<Figure size 432x288 with 1 Axes>"
      ]
     },
     "metadata": {},
     "output_type": "display_data"
    }
   ],
   "source": [
    "param_values = list(range(1,x_train.shape[1]))\n",
    "train_results = []\n",
    "test_results = []\n",
    "\n",
    "for max_feature in param_values:\n",
    "    model = GradientBoostingClassifier(max_features=max_feature)\n",
    "    model.fit(x_train, y_train)\n",
    "\n",
    "    train_pred = model.predict(x_train)\n",
    "    false_positive_rate, true_positive_rate, thresholds = roc_curve(y_train, train_pred)\n",
    "\n",
    "    roc_auc = auc(false_positive_rate, true_positive_rate)\n",
    "    train_results.append(roc_auc)\n",
    "\n",
    "    y_pred = model.predict(x_test)\n",
    "    false_positive_rate, true_positive_rate, thresholds = roc_curve(y_test, y_pred)\n",
    "\n",
    "    roc_auc = auc(false_positive_rate, true_positive_rate)\n",
    "    test_results.append(roc_auc)\n",
    "    \n",
    "hyperparam_chart('max_features', param_values, train_results, test_results)"
   ]
  },
  {
   "cell_type": "markdown",
   "metadata": {},
   "source": [
    "### XGBoostClassifier"
   ]
  },
  {
   "cell_type": "markdown",
   "metadata": {},
   "source": [
    "#### Choosing input for n_estimators hyperparameter"
   ]
  },
  {
   "cell_type": "code",
   "execution_count": 129,
   "metadata": {},
   "outputs": [
    {
     "data": {
      "image/png": "[encoded data removed]",
      "text/plain": [
       "<Figure size 432x288 with 1 Axes>"
      ]
     },
     "metadata": {},
     "output_type": "display_data"
    }
   ],
   "source": [
    "param_values = [1,5,10,30,50,100,150,200,250,300]\n",
    "train_results = []\n",
    "test_results = []\n",
    "\n",
    "for estimator in param_values:\n",
    "    model = xgb.XGBClassifier(n_estimators=estimator)\n",
    "    model.fit(x_train, y_train)\n",
    "\n",
    "    train_pred = model.predict(x_train)\n",
    "    false_positive_rate, true_positive_rate, thresholds = roc_curve(y_train, train_pred)\n",
    "\n",
    "    roc_auc = auc(false_positive_rate, true_positive_rate)\n",
    "    train_results.append(roc_auc)\n",
    "\n",
    "    y_pred = model.predict(x_test)\n",
    "    false_positive_rate, true_positive_rate, thresholds = roc_curve(y_test, y_pred)\n",
    "\n",
    "    roc_auc = auc(false_positive_rate, true_positive_rate)\n",
    "    test_results.append(roc_auc)\n",
    "    \n",
    "hyperparam_chart('n_estimators', param_values, train_results, test_results)"
   ]
  },
  {
   "cell_type": "markdown",
   "metadata": {},
   "source": [
    "#### Choosing input for learning_rate hyperparameter"
   ]
  },
  {
   "cell_type": "code",
   "execution_count": 130,
   "metadata": {},
   "outputs": [
    {
     "data": {
      "image/png": "[encoded data removed]",
      "text/plain": [
       "<Figure size 432x288 with 1 Axes>"
      ]
     },
     "metadata": {},
     "output_type": "display_data"
    }
   ],
   "source": [
    "param_values = [1, 0.5, 0.25, 0.1, 0.05, 0.01]\n",
    "train_results = []\n",
    "test_results = []\n",
    "\n",
    "for eta in param_values:\n",
    "    model = xgb.XGBClassifier(learning_rate=eta)\n",
    "    model.fit(x_train, y_train)\n",
    "\n",
    "    train_pred = model.predict(x_train)\n",
    "    false_positive_rate, true_positive_rate, thresholds = roc_curve(y_train, train_pred)\n",
    "\n",
    "    roc_auc = auc(false_positive_rate, true_positive_rate)\n",
    "    train_results.append(roc_auc)\n",
    "\n",
    "    y_pred = model.predict(x_test)\n",
    "    false_positive_rate, true_positive_rate, thresholds = roc_curve(y_test, y_pred)\n",
    "\n",
    "    roc_auc = auc(false_positive_rate, true_positive_rate)\n",
    "    test_results.append(roc_auc)\n",
    "    \n",
    "hyperparam_chart('learning_rate', param_values, train_results, test_results)"
   ]
  },
  {
   "cell_type": "markdown",
   "metadata": {},
   "source": [
    "### RandomForestClassifier"
   ]
  },
  {
   "cell_type": "markdown",
   "metadata": {},
   "source": [
    "#### Choosing input for n_estimators hyperparameter"
   ]
  },
  {
   "cell_type": "code",
   "execution_count": 131,
   "metadata": {},
   "outputs": [
    {
     "data": {
      "image/png": "[encoded data removed]",
      "text/plain": [
       "<Figure size 432x288 with 1 Axes>"
      ]
     },
     "metadata": {},
     "output_type": "display_data"
    }
   ],
   "source": [
    "param_values = [1,5,10,30,50,100]\n",
    "train_results = []\n",
    "test_results = []\n",
    "\n",
    "for estimator in param_values:\n",
    "    model = RandomForestClassifier(n_estimators=estimator)\n",
    "    model.fit(x_train, y_train)\n",
    "\n",
    "    train_pred = model.predict(x_train)\n",
    "    false_positive_rate, true_positive_rate, thresholds = roc_curve(y_train, train_pred)\n",
    "\n",
    "    roc_auc = auc(false_positive_rate, true_positive_rate)\n",
    "    train_results.append(roc_auc)\n",
    "\n",
    "    y_pred = model.predict(x_test)\n",
    "    false_positive_rate, true_positive_rate, thresholds = roc_curve(y_test, y_pred)\n",
    "\n",
    "    roc_auc = auc(false_positive_rate, true_positive_rate)\n",
    "    test_results.append(roc_auc)\n",
    "    \n",
    "hyperparam_chart('n_estimators', param_values, train_results, test_results)"
   ]
  },
  {
   "cell_type": "markdown",
   "metadata": {},
   "source": [
    "## Set the values for all the hyperparameters"
   ]
  },
  {
   "cell_type": "markdown",
   "metadata": {},
   "source": [
    "The values are partly determined by the investigation above into the values of the hyperparameters."
   ]
  },
  {
   "cell_type": "code",
   "execution_count": 294,
   "metadata": {},
   "outputs": [],
   "source": [
    "logistic_hyperparameters = {\n",
    "    'logisticregression__C' : np.linspace(0.001, 5, 20, endpoint=True)\n",
    "}\n",
    "\n",
    "gb_hyperparameters = {\n",
    "    'gradientboostingclassifier__n_estimators': [500, 1000, 1500, 1700, 2000],\n",
    "    'gradientboostingclassifier__learning_rate': [0.1, 0.5, 1],\n",
    "    'gradientboostingclassifier__max_depth': np.linspace(5, 15, 11, endpoint=True),\n",
    "    'gradientboostingclassifier__min_samples_split': np.linspace(0.01, 0.3, 10, endpoint=True),\n",
    "    'gradientboostingclassifier__min_samples_leaf': np.linspace(0.1, 0.5, 5, endpoint=True),\n",
    "    'gradientboostingclassifier__max_features': ['auto', 'sqrt', 0.33]\n",
    "}\n",
    "\n",
    "xgb_hyperparameters = {\n",
    "    'xgbclassifier__objective': ['binary:logistic'],\n",
    "    'xgbclassifier__n_estimators': [100,150,200,250,300,350,400],\n",
    "    'xgbclassifier__learning_rate': [0.1, 0.5, 1]\n",
    "}\n",
    "\n",
    "rf_hyperparameters = {\n",
    "    'randomforestclassifier__n_estimators' : [1,5,10,30,50,100],\n",
    "    'randomforestclassifier__max_depth' : np.linspace(5, 12, 8, endpoint=True),\n",
    "    'randomforestclassifier__min_samples_leaf' : np.linspace(0.1, 0.5, 5, endpoint=True),\n",
    "    'randomforestclassifier__max_features' : ['auto', 'sqrt', 0.33]\n",
    "}\n",
    "\n",
    "hyperparameters = {\n",
    "    'l1' : logistic_hyperparameters,\n",
    "    'l2' : logistic_hyperparameters,\n",
    "    'gb' : gb_hyperparameters,\n",
    "    'xgb' : xgb_hyperparameters,\n",
    "    'rf' : rf_hyperparameters\n",
    "}"
   ]
  },
  {
   "cell_type": "markdown",
   "metadata": {},
   "source": [
    "## Prepare the pipelines"
   ]
  },
  {
   "cell_type": "code",
   "execution_count": 295,
   "metadata": {},
   "outputs": [],
   "source": [
    "pipelines = {\n",
    "    'l1' : make_pipeline(StandardScaler(),\n",
    "                        LogisticRegression(\n",
    "                            penalty='l1', \n",
    "                            solver='liblinear',\n",
    "                            random_state=777)),\n",
    "    'l2' : make_pipeline(StandardScaler(),\n",
    "                        LogisticRegression(\n",
    "                            penalty='l2', \n",
    "                            solver='liblinear',\n",
    "                            random_state=777)),\n",
    "    'gb' : make_pipeline(StandardScaler(),\n",
    "                        GradientBoostingClassifier(\n",
    "                        random_state=777)),\n",
    "    'xgb' : make_pipeline(StandardScaler(),\n",
    "                        xgb.XGBClassifier(\n",
    "                        random_state=777)),\n",
    "    'rf' : make_pipeline(StandardScaler(),\n",
    "                        RandomForestClassifier(\n",
    "                        random_state=777))\n",
    "}"
   ]
  },
  {
   "cell_type": "markdown",
   "metadata": {},
   "source": [
    "## Prepare GridSearchCV"
   ]
  },
  {
   "cell_type": "markdown",
   "metadata": {},
   "source": [
    "A comprehensive GridSearchCV was attempted, however it was too time consuming, and RandomizedSearchCV was chosen for faster results."
   ]
  },
  {
   "cell_type": "markdown",
   "metadata": {},
   "source": [
    "https://scikit-learn.org/stable/auto_examples/model_selection/plot_grid_search_digits.html#sphx-glr-auto-examples-model-selection-plot-grid-search-digits-py"
   ]
  },
  {
   "cell_type": "markdown",
   "metadata": {},
   "source": [
    "We will set __scoring='roc_auc'__ in order to focus on the area under the ROC as the primary optimization metric."
   ]
  },
  {
   "cell_type": "code",
   "execution_count": null,
   "metadata": {},
   "outputs": [],
   "source": [
    "fitted_models = {}\n",
    "\n",
    "for model_name, model_pipeline in pipelines.items():\n",
    "    print('\\nStarting to fit: {}'.format(model_name))\n",
    "    \n",
    "    # Fit each model\n",
    "    model = GridSearchCV(\n",
    "        pipelines[model_name],\n",
    "        hyperparameters[model_name],\n",
    "        cv      = 2,   # 2 fold cross-validation\n",
    "        n_jobs  = -1,  # Use all my computer's power\n",
    "        verbose = 10,\n",
    "        scoring = 'roc_auc'\n",
    "    )\n",
    "    \n",
    "    model.fit(x_train, y_train)\n",
    "    fitted_models[model_name] = model\n",
    "    \n",
    "    # Immediately calculate the roc_score for the model:\n",
    "    pred = model.predict_proba(x_test)\n",
    "    pred_proba = [p[1] for p in pred]\n",
    "    roc_score = roc_auc_score(y_test, pred_proba)\n",
    "    \n",
    "    print('\\n\\nModel {} has been fitted. ROC AUC: {}\\n'.format(model_name, roc_score))"
   ]
  },
  {
   "cell_type": "markdown",
   "metadata": {},
   "source": [
    "## Prepare RandomizedSearchCV"
   ]
  },
  {
   "cell_type": "markdown",
   "metadata": {},
   "source": [
    "https://scikit-learn.org/stable/modules/generated/sklearn.model_selection.RandomizedSearchCV.html#sklearn.model_selection.RandomizedSearchCV"
   ]
  },
  {
   "cell_type": "markdown",
   "metadata": {},
   "source": [
    "We will set __scoring='roc_auc'__ in order to focus on the area under the ROC as the primary optimization metric.\n",
    "\n",
    "Note: remember to set the __n_iter__ parameter to limit the amount of iterations."
   ]
  },
  {
   "cell_type": "code",
   "execution_count": 298,
   "metadata": {
    "scrolled": false
   },
   "outputs": [
    {
     "name": "stdout",
     "output_type": "stream",
     "text": [
      "\n",
      "Starting to fit: l1\n",
      "Fitting 3 folds for each of 20 candidates, totalling 60 fits\n"
     ]
    },
    {
     "name": "stderr",
     "output_type": "stream",
     "text": [
      "/Users/ivan.khokhlov/anaconda3/lib/python3.7/site-packages/sklearn/model_selection/_search.py:266: UserWarning: The total space of parameters 20 is smaller than n_iter=40. Running 20 iterations. For exhaustive searches, use GridSearchCV.\n",
      "  % (grid_size, self.n_iter, grid_size), UserWarning)\n",
      "[Parallel(n_jobs=-1)]: Using backend LokyBackend with 12 concurrent workers.\n",
      "[Parallel(n_jobs=-1)]: Done   1 tasks      | elapsed:    2.4s\n",
      "[Parallel(n_jobs=-1)]: Done   8 tasks      | elapsed:    2.8s\n",
      "[Parallel(n_jobs=-1)]: Done  17 tasks      | elapsed:    3.1s\n",
      "[Parallel(n_jobs=-1)]: Done  26 tasks      | elapsed:    3.3s\n",
      "[Parallel(n_jobs=-1)]: Done  37 tasks      | elapsed:    3.7s\n",
      "[Parallel(n_jobs=-1)]: Done  44 out of  60 | elapsed:    3.8s remaining:    1.4s\n",
      "[Parallel(n_jobs=-1)]: Done  51 out of  60 | elapsed:    4.0s remaining:    0.7s\n",
      "[Parallel(n_jobs=-1)]: Done  58 out of  60 | elapsed:    4.1s remaining:    0.1s\n",
      "[Parallel(n_jobs=-1)]: Done  60 out of  60 | elapsed:    4.1s finished\n"
     ]
    },
    {
     "name": "stdout",
     "output_type": "stream",
     "text": [
      "\n",
      "\n",
      "Model l1 has been fitted. \n",
      "\n",
      "          ROC AUC: 0.6544527488472769\n",
      "\n",
      "          Precision: 0.6242953776775648\n",
      "\n",
      "          Recall: 0.7799295774647887\n",
      "\n",
      "          F1: 0.6934877896055104\n",
      "\n",
      "          \n",
      "\n",
      "Starting to fit: l2\n",
      "Fitting 3 folds for each of 20 candidates, totalling 60 fits\n"
     ]
    },
    {
     "name": "stderr",
     "output_type": "stream",
     "text": [
      "/Users/ivan.khokhlov/anaconda3/lib/python3.7/site-packages/sklearn/model_selection/_search.py:266: UserWarning: The total space of parameters 20 is smaller than n_iter=40. Running 20 iterations. For exhaustive searches, use GridSearchCV.\n",
      "  % (grid_size, self.n_iter, grid_size), UserWarning)\n",
      "[Parallel(n_jobs=-1)]: Using backend LokyBackend with 12 concurrent workers.\n",
      "[Parallel(n_jobs=-1)]: Done   1 tasks      | elapsed:    0.2s\n",
      "[Parallel(n_jobs=-1)]: Batch computation too fast (0.1642s.) Setting batch_size=2.\n",
      "[Parallel(n_jobs=-1)]: Done   8 tasks      | elapsed:    0.4s\n",
      "[Parallel(n_jobs=-1)]: Done  17 tasks      | elapsed:    0.7s\n",
      "[Parallel(n_jobs=-1)]: Done  23 out of  60 | elapsed:    0.9s remaining:    1.4s\n",
      "[Parallel(n_jobs=-1)]: Done  30 out of  60 | elapsed:    1.3s remaining:    1.3s\n",
      "[Parallel(n_jobs=-1)]: Done  44 out of  60 | elapsed:    1.6s remaining:    0.6s\n",
      "[Parallel(n_jobs=-1)]: Done  58 out of  60 | elapsed:    1.9s remaining:    0.1s\n",
      "[Parallel(n_jobs=-1)]: Done  60 out of  60 | elapsed:    1.9s finished\n",
      "[Parallel(n_jobs=-1)]: Using backend LokyBackend with 12 concurrent workers.\n"
     ]
    },
    {
     "name": "stdout",
     "output_type": "stream",
     "text": [
      "\n",
      "\n",
      "Model l2 has been fitted. \n",
      "\n",
      "          ROC AUC: 0.6544301141030945\n",
      "\n",
      "          Precision: 0.6242953776775648\n",
      "\n",
      "          Recall: 0.7799295774647887\n",
      "\n",
      "          F1: 0.6934877896055104\n",
      "\n",
      "          \n",
      "\n",
      "Starting to fit: gb\n",
      "Fitting 3 folds for each of 40 candidates, totalling 120 fits\n"
     ]
    },
    {
     "name": "stderr",
     "output_type": "stream",
     "text": [
      "[Parallel(n_jobs=-1)]: Done   1 tasks      | elapsed:    3.4s\n",
      "[Parallel(n_jobs=-1)]: Done   8 tasks      | elapsed:   11.6s\n",
      "[Parallel(n_jobs=-1)]: Done  17 tasks      | elapsed:   15.9s\n",
      "[Parallel(n_jobs=-1)]: Done  26 tasks      | elapsed:   26.2s\n",
      "[Parallel(n_jobs=-1)]: Done  37 tasks      | elapsed:   31.2s\n",
      "[Parallel(n_jobs=-1)]: Done  48 tasks      | elapsed:   51.0s\n",
      "[Parallel(n_jobs=-1)]: Done  61 tasks      | elapsed:   57.9s\n",
      "[Parallel(n_jobs=-1)]: Done  74 tasks      | elapsed:  1.1min\n",
      "[Parallel(n_jobs=-1)]: Done  89 tasks      | elapsed:  1.5min\n",
      "[Parallel(n_jobs=-1)]: Done 110 out of 120 | elapsed:  1.9min remaining:   10.2s\n",
      "[Parallel(n_jobs=-1)]: Done 120 out of 120 | elapsed:  2.0min finished\n"
     ]
    },
    {
     "name": "stdout",
     "output_type": "stream",
     "text": [
      "\n",
      "\n",
      "Model gb has been fitted. \n",
      "\n",
      "          ROC AUC: 0.8603232421348012\n",
      "\n",
      "          Precision: 0.7938180540920267\n",
      "\n",
      "          Recall: 0.795774647887324\n",
      "\n",
      "          F1: 0.7947951468260945\n",
      "\n",
      "          \n",
      "\n",
      "Starting to fit: xgb\n",
      "Fitting 3 folds for each of 21 candidates, totalling 63 fits\n"
     ]
    },
    {
     "name": "stderr",
     "output_type": "stream",
     "text": [
      "/Users/ivan.khokhlov/anaconda3/lib/python3.7/site-packages/sklearn/model_selection/_search.py:266: UserWarning: The total space of parameters 21 is smaller than n_iter=40. Running 21 iterations. For exhaustive searches, use GridSearchCV.\n",
      "  % (grid_size, self.n_iter, grid_size), UserWarning)\n",
      "[Parallel(n_jobs=-1)]: Using backend LokyBackend with 12 concurrent workers.\n",
      "[Parallel(n_jobs=-1)]: Done   1 tasks      | elapsed:    5.6s\n",
      "[Parallel(n_jobs=-1)]: Done   8 tasks      | elapsed:   10.5s\n",
      "[Parallel(n_jobs=-1)]: Done  17 tasks      | elapsed:   20.9s\n",
      "[Parallel(n_jobs=-1)]: Done  26 tasks      | elapsed:   30.9s\n",
      "[Parallel(n_jobs=-1)]: Done  37 tasks      | elapsed:   44.5s\n",
      "[Parallel(n_jobs=-1)]: Done  47 out of  63 | elapsed:   52.1s remaining:   17.8s\n",
      "[Parallel(n_jobs=-1)]: Done  54 out of  63 | elapsed:  1.1min remaining:   10.6s\n",
      "[Parallel(n_jobs=-1)]: Done  61 out of  63 | elapsed:  1.2min remaining:    2.3s\n",
      "[Parallel(n_jobs=-1)]: Done  63 out of  63 | elapsed:  1.2min finished\n"
     ]
    },
    {
     "name": "stdout",
     "output_type": "stream",
     "text": [
      "\n",
      "\n",
      "Model xgb has been fitted. \n",
      "\n",
      "          ROC AUC: 0.8894403671925123\n",
      "\n",
      "          Precision: 0.823549965059399\n",
      "\n",
      "          Recall: 0.8299295774647887\n",
      "\n",
      "          F1: 0.8267274640477026\n",
      "\n",
      "          \n",
      "\n",
      "Starting to fit: rf\n",
      "Fitting 3 folds for each of 40 candidates, totalling 120 fits\n"
     ]
    },
    {
     "name": "stderr",
     "output_type": "stream",
     "text": [
      "[Parallel(n_jobs=-1)]: Using backend LokyBackend with 12 concurrent workers.\n",
      "[Parallel(n_jobs=-1)]: Done   1 tasks      | elapsed:    0.1s\n",
      "[Parallel(n_jobs=-1)]: Batch computation too fast (0.0939s.) Setting batch_size=4.\n",
      "[Parallel(n_jobs=-1)]: Done   8 tasks      | elapsed:    0.3s\n",
      "[Parallel(n_jobs=-1)]: Done  17 tasks      | elapsed:    0.8s\n",
      "[Parallel(n_jobs=-1)]: Done  32 out of 120 | elapsed:    1.4s remaining:    3.7s\n",
      "[Parallel(n_jobs=-1)]: Done  84 out of 120 | elapsed:    2.7s remaining:    1.1s\n",
      "[Parallel(n_jobs=-1)]: Done 120 out of 120 | elapsed:    4.1s finished\n"
     ]
    },
    {
     "name": "stdout",
     "output_type": "stream",
     "text": [
      "\n",
      "\n",
      "Model rf has been fitted. \n",
      "\n",
      "          ROC AUC: 0.7116419783066212\n",
      "\n",
      "          Precision: 0.6957708049113234\n",
      "\n",
      "          Recall: 0.7183098591549296\n",
      "\n",
      "          F1: 0.706860706860707\n",
      "\n",
      "          \n"
     ]
    }
   ],
   "source": [
    "fitted_models = {}\n",
    "\n",
    "for model_name, model_pipeline in pipelines.items():\n",
    "    print('\\nStarting to fit: {}'.format(model_name))\n",
    "    \n",
    "    # Fit each model\n",
    "    model = RandomizedSearchCV(\n",
    "        pipelines[model_name],\n",
    "        hyperparameters[model_name],\n",
    "        n_iter    = 40,\n",
    "        n_jobs    = -1, # Use all my computer's power\n",
    "        cv        = 3,  # The default value of this will change to 5 in version 0.22\n",
    "        verbose   = 10,\n",
    "        scoring   = 'roc_auc'\n",
    "    )\n",
    "    \n",
    "    model.fit(x_train, y_train)\n",
    "    fitted_models[model_name] = model\n",
    "    \n",
    "    # Calculate predictions\n",
    "    y_pred = model.predict(x_test)  # y_pred = predicted Y value\n",
    "    y_pred_proba_prep = model.predict_proba(x_test) \n",
    "    y_pred_proba = [p[1] for p in y_pred_proba_prep] # y_pred_proba = the probability of the prediction\n",
    "\n",
    "    # Calculate all the performance scores:\n",
    "    roc_score = roc_auc_score(y_test, y_pred_proba)\n",
    "    precision = precision_score(y_test,y_pred)\n",
    "    recall = recall_score(y_test,y_pred)\n",
    "    f1 = f1_score(y_test,y_pred)\n",
    "    \n",
    "    print('''\\n\\nModel {} has been fitted. \\n\n",
    "          ROC AUC: {}\\n\n",
    "          Precision: {}\\n\n",
    "          Recall: {}\\n\n",
    "          F1: {}\\n\n",
    "          '''.format(model_name, roc_score, precision, recall, f1)\n",
    "         )"
   ]
  },
  {
   "cell_type": "markdown",
   "metadata": {},
   "source": [
    "## Feature Importances for Winning Model"
   ]
  },
  {
   "cell_type": "markdown",
   "metadata": {},
   "source": [
    "__Model xgb is the best performer with an ROC AUC score of 0.89__\n",
    "\n",
    "Below is a plot of features based on their relative importance."
   ]
  },
  {
   "cell_type": "code",
   "execution_count": 306,
   "metadata": {},
   "outputs": [
    {
     "data": {
      "image/png": "[encoded data removed]",
      "text/plain": [
       "<Figure size 1080x576 with 1 Axes>"
      ]
     },
     "metadata": {},
     "output_type": "display_data"
    }
   ],
   "source": [
    "importances = fitted_models['xgb'].best_estimator_.named_steps[\"xgbclassifier\"].feature_importances_\n",
    "features = x_train.columns\n",
    "indices = np.argsort(importances)\n",
    "\n",
    "plt.figure(figsize=(15,8))\n",
    "plt.title('Feature Importances: XGBoost Algorithm', **title_font)\n",
    "plt.barh(range(len(indices)), importances[indices], color='m', align='center')\n",
    "plt.yticks(range(len(indices)), [features[i] for i in indices])\n",
    "plt.xlabel('Relative Importance')\n",
    "plt.show()"
   ]
  },
  {
   "cell_type": "markdown",
   "metadata": {},
   "source": [
    "__Model GB is the 2nd best performer (not far behind XGB) with an ROC AUC score of 0.86__\n",
    "\n",
    "Below is a plot of features based on their relative importance."
   ]
  },
  {
   "cell_type": "code",
   "execution_count": 307,
   "metadata": {
    "scrolled": false
   },
   "outputs": [
    {
     "data": {
      "image/png": "[encoded data removed]",
      "text/plain": [
       "<Figure size 1080x576 with 1 Axes>"
      ]
     },
     "metadata": {},
     "output_type": "display_data"
    }
   ],
   "source": [
    "importances = fitted_models['gb'].best_estimator_.named_steps[\"gradientboostingclassifier\"].feature_importances_\n",
    "features = x_train.columns\n",
    "indices = np.argsort(importances)\n",
    "\n",
    "plt.figure(figsize=(15,8))\n",
    "plt.title('Feature Importances: Gradient Boosting Algorithm', **title_font)\n",
    "plt.barh(range(len(indices)), importances[indices], color='r', align='center')\n",
    "plt.yticks(range(len(indices)), [features[i] for i in indices])\n",
    "plt.xlabel('Relative Importance', **axis_font)\n",
    "plt.show()"
   ]
  },
  {
   "cell_type": "markdown",
   "metadata": {},
   "source": [
    "#### Insights:\n",
    "* Both algorithms seem to emphasize importance on different features\n",
    "* As an improvement in the next algorithm iteration \"has_distance\" can probably be dropped. In almost all cases there is a distance, hence it probably has little importance in the model.\n",
    "* The number of jobs a worker applied for in the past with the same company seems to play a very important role in predicting what job a worker will apply for in the future"
   ]
  },
  {
   "cell_type": "markdown",
   "metadata": {},
   "source": [
    "## Confusion Matrix for Winning Model"
   ]
  },
  {
   "cell_type": "code",
   "execution_count": 301,
   "metadata": {
    "scrolled": false
   },
   "outputs": [
    {
     "data": {
      "image/png": "[encoded data removed]",
      "text/plain": [
       "<Figure size 576x576 with 2 Axes>"
      ]
     },
     "metadata": {},
     "output_type": "display_data"
    }
   ],
   "source": [
    "pred = fitted_models['xgb'].predict(x_test)\n",
    "cf_matrix = confusion_matrix(y_test, pred)\n",
    "\n",
    "group_names = ['True Neg','False Pos','False Neg','True Pos']\n",
    "group_counts = [\"{0:0.0f}\".format(value) for value in  cf_matrix.flatten()]\n",
    "group_percentages = [\"{0:.2%}\".format(value) for value in cf_matrix.flatten()/np.sum(cf_matrix)]\n",
    "labels = [f\"{v1}\\n{v2}\\n{v3}\" for v1, v2, v3 in zip(group_names,group_counts,group_percentages)]\n",
    "labels = np.asarray(labels).reshape(2,2)\n",
    "\n",
    "plt.figure(figsize=(8,8))\n",
    "plt.title('Confusion Matrix: XGBoost', **title_font)\n",
    "sns.heatmap(cf_matrix, annot=labels, annot_kws={\"size\": 16}, fmt='', cmap='Blues')\n",
    "plt.show()"
   ]
  },
  {
   "cell_type": "markdown",
   "metadata": {},
   "source": [
    "## ROC Curve for Winning Model"
   ]
  },
  {
   "cell_type": "code",
   "execution_count": 304,
   "metadata": {
    "scrolled": false
   },
   "outputs": [
    {
     "data": {
      "image/png": "[encoded data removed]",
      "text/plain": [
       "<Figure size 432x432 with 1 Axes>"
      ]
     },
     "metadata": {},
     "output_type": "display_data"
    }
   ],
   "source": [
    "# Get the data:\n",
    "pred = fitted_models['xgb'].predict_proba(x_test)\n",
    "pred_proba = [p[1] for p in pred]\n",
    "fpr, tpr, thresholds = roc_curve(y_test, pred_proba)\n",
    "\n",
    "# Set the style properties:\n",
    "plt.figure(figsize=(6,6))\n",
    "plt.title('ROC: XGBoost', **title_font)\n",
    "plt.ylabel('True Positive Rate', **axis_font)\n",
    "plt.xlabel('False Positive Rate', **axis_font)\n",
    "plt.xticks(**ticks_font)  # rotation=90\n",
    "plt.yticks(**ticks_font)  # rotation=90\n",
    "\n",
    "# Plot the data:\n",
    "sns.lineplot(x=[0,1], y=[0,1])\n",
    "sns.lineplot(x=fpr, y=tpr) # marker=\"o\"\n",
    "plt.show()"
   ]
  },
  {
   "cell_type": "markdown",
   "metadata": {},
   "source": [
    "## Final performance recap for the winning model"
   ]
  },
  {
   "cell_type": "code",
   "execution_count": 309,
   "metadata": {},
   "outputs": [
    {
     "name": "stdout",
     "output_type": "stream",
     "text": [
      " \n",
      "            ROC AUC: 0.8894403671925123\n",
      "\n",
      "            Precision: 0.823549965059399\n",
      "\n",
      "            Recall: 0.8299295774647887\n",
      "\n",
      "            F1: 0.8267274640477026\n",
      "\n",
      "\n"
     ]
    }
   ],
   "source": [
    "# Set the winning model:\n",
    "model = 'xgb'\n",
    "\n",
    "# Calculate predictions\n",
    "y_pred = fitted_models[model].predict(x_test)  # y_pred = predicted Y value\n",
    "y_pred_proba_prep = fitted_models[model].predict_proba(x_test) \n",
    "y_pred_proba = [p[1] for p in y_pred_proba_prep] # y_pred_proba = the probability of the prediction\n",
    "\n",
    "# Calculate all the performance scores:\n",
    "roc_score = roc_auc_score(y_test, y_pred_proba)\n",
    "precision = precision_score(y_test,y_pred)\n",
    "recall = recall_score(y_test,y_pred)\n",
    "f1= f1_score(y_test,y_pred)\n",
    "\n",
    "print(''' \n",
    "            ROC AUC: {}\\n\n",
    "            Precision: {}\\n\n",
    "            Recall: {}\\n\n",
    "            F1: {}\\n\n",
    "'''.format(roc_score, precision, recall, f1))"
   ]
  },
  {
   "cell_type": "markdown",
   "metadata": {},
   "source": [
    "## Insights & Analysis"
   ]
  },
  {
   "cell_type": "markdown",
   "metadata": {},
   "source": [
    "The higher tha area under the ROC curve (AUC), the better the classifier. A classifier with an AUC higher than 0.5 is better than a random classifier. In our project we have achieved AUROC score of 0.89 using the XGBoost algorithm, which is excellent.\n",
    "\n",
    "The model can now be exported and hosted by the client is a point of inference, e.g. on AWS Sagemaker, in order to improve the relevancy of their jobs marketplace.\n",
    "\n",
    "__Some important insights:__\n",
    "* The model identified that in the UK the following play an important role in determining if someone will apply for a job:\n",
    "    * Number of previous applications to a particular company\n",
    "    * The average wage of previously applied roles\n",
    "    * The wage of the job\n",
    "    * The number of times a worker was previously hired by the company\n",
    "\n",
    "__Further recommendations:__\n",
    "* Different models will probably be required for different markets\n",
    "* Some features could potentially be dropped, e.g. 'has_distance'\n",
    "* Comprehensive hyperparamter search should be carried out\n",
    "* Specifically for XGBoost more hyperparameters should be tested\n",
    "* New features can be tested:\n",
    "    * How many times a worker viewed a particular job\n",
    "    * Quantity of times a worker has declined different job types"
   ]
  }
 ],
 "metadata": {
  "kernelspec": {
   "display_name": "Python 3",
   "language": "python",
   "name": "python3"
  },
  "language_info": {
   "codemirror_mode": {
    "name": "ipython",
    "version": 3
   },
   "file_extension": ".py",
   "mimetype": "text/x-python",
   "name": "python",
   "nbconvert_exporter": "python",
   "pygments_lexer": "ipython3",
   "version": "3.7.3"
  }
 },
 "nbformat": 4,
 "nbformat_minor": 2
}
